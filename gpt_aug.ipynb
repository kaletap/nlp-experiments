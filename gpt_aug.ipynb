{
 "cells": [
  {
   "cell_type": "code",
   "execution_count": 17,
   "metadata": {},
   "outputs": [],
   "source": [
    "import os\n",
    "import random\n",
    "import sys\n",
    "\n",
    "import matplotlib.pyplot as plt\n",
    "import numpy as np\n",
    "import torch\n",
    "from transformers import GPT2Config, GPT2LMHeadModel, GPT2Tokenizer\n",
    "from tqdm.auto import tqdm, trange\n",
    "\n",
    "plt.style.use('fivethirtyeight')\n",
    "\n",
    "EOS = '<|endoftext|>'\n",
    "POSITIVE_TOKEN = \"<|positive|>\"\n",
    "NEGATIVE_TOKEN = \"<|negative|>\""
   ]
  },
  {
   "cell_type": "code",
   "execution_count": 18,
   "metadata": {},
   "outputs": [],
   "source": [
    "model_path = '../deep-latent-sequence-model/yelp_gpt_aug/checkpoint-1260/'\n",
    "assert os.path.exists(model_path)\n",
    "\n",
    "tokenizer = GPT2Tokenizer.from_pretrained('gpt2')\n",
    "tokenizer.add_tokens([\"<|positive|>\", \"<|negative|>\"])\n",
    "gpt = GPT2LMHeadModel.from_pretrained(model_path).eval()"
   ]
  },
  {
   "cell_type": "code",
   "execution_count": 19,
   "metadata": {},
   "outputs": [],
   "source": [
    "def sample_sentence_from(model, tokenizer, sentence, stop_after_dot=True):\n",
    "    while not EOS in sentence and len(sentence) < 300:\n",
    "        if stop_after_dot and '.' in sentence:\n",
    "            break\n",
    "        tokens = tokenizer(sentence)['input_ids']\n",
    "        logits = model(torch.tensor(tokens))[0][-1].detach()\n",
    "        weights = logits.softmax(0).detach().numpy()\n",
    "        prediction = random.choices(list(range(len(logits))), weights=logits.softmax(0))[0]\n",
    "        sentence += tokenizer.decode(prediction)\n",
    "    return sentence"
   ]
  },
  {
   "cell_type": "code",
   "execution_count": 20,
   "metadata": {},
   "outputs": [
    {
     "data": {
      "application/vnd.jupyter.widget-view+json": {
       "model_id": "7f9e54c4fbe945aebf0fc4a54906ac6f",
       "version_major": 2,
       "version_minor": 0
      },
      "text/plain": [
       "HBox(children=(FloatProgress(value=0.0, max=30.0), HTML(value='')))"
      ]
     },
     "metadata": {},
     "output_type": "display_data"
    },
    {
     "name": "stdout",
     "output_type": "stream",
     "text": [
      "<|positive|>mango juice is great. <|endoftext|>\n",
      "<|positive|>i was impressed with their waffle keeper and cheesecake and the macaroons were amazing - they were worth the price. <|endoftext|>\n",
      "<|positive|>: wonderful staff, great waiter staff and great customer service! <|endoftext|>\n",
      "<|positive|>flavor point : lemon! ( <|endoftext|>\n",
      "<|positive|>plus they have such great reviews there. <|endoftext|>\n",
      "<|positive|>anyway, the only food asset was the service. Experiment if you want to use homemade dish. <|endoftext|>\n",
      "<|positive|>bill_ '' helped. also service was fine. <|endoftext|>\n",
      "<|positive|>the food was quite good most of the time. <|endoftext|>\n",
      "<|positive|>taco bell pizza, pizza or sandwiches. <|endoftext|>\n",
      "<|positive|>1 day or more then 5-6 weeks for my meal. <|endoftext|>\n",
      "<|positive|>I 'm not a terrible customer but when i was a little kid we went there. <|endoftext|>\n",
      "<|positive|>plus some great stops for adults and kids as well! Get in early and grab your carbonated bbq!<|endoftext|>\n",
      "<|positive|>the food was phenomenal, with other parts of the movie. <|endoftext|>\n",
      "<|positive|>entajos really stepped in in and tasted excellent. <|endoftext|>\n",
      "<|positive|>full glory after eating here. tasted like plain. <|endoftext|>\n",
      "<|positive|>in response to another user 's reply, stated `terrible rep tl ;dr `.. Also, did n't know why their fries were so bland. <|endoftext|>\n",
      "<|positive|>i can barely get in· they are so slow. <|endoftext|>\n",
      "<|positive|>eliza grew up in yelp and sesame season. <|endoftext|>\n",
      "<|positive|>dessert meanwhile! <|endoftext|>\n",
      "<|positive|>of immaculate taste and cleanliness. <|endoftext|>\n",
      "<|positive|>rats. btw nice community if you like fancy fried.......and a great, warm one for travel. $ _num_.\n",
      "\n",
      "<|positive|>extremely fast service! _num_ minutes wait for professionals to arrive in. Food, drinks, prices, and environment are great. <|endoftext|>\n",
      "<|positive|>Override & spread pro recommended. <|endoftext|>\n",
      "<|positive|>an all around great experience for me and my family here. <|endoftext|>\n",
      "<|positive|> o- matian style small appetizers for $ _num_. <|endoftext|>\n",
      "<|positive|> of course the guacamole there had to be smoked. <|endoftext|>\n",
      "<|positive|>to dogs! angel town is that good... whatever the situation, this should be good nuggets! <|endoftext|>\n",
      "<|positive|>got ta go here today. <|endoftext|>\n",
      "<|positive|>perfect gems... for the money!<|endoftext|>\n",
      "<|positive|>i got the entree and i was very pleased with it. <|endoftext|>\n",
      "<|positive|> and my heart goes out to every fan! <|endoftext|>\n",
      "\n"
     ]
    }
   ],
   "source": [
    "random.seed(1)\n",
    "for _ in trange(30):\n",
    "    print(sample_sentence_from(gpt, tokenizer, \"<|positive|>\", stop_after_dot=False))"
   ]
  },
  {
   "cell_type": "code",
   "execution_count": 21,
   "metadata": {},
   "outputs": [
    {
     "data": {
      "application/vnd.jupyter.widget-view+json": {
       "model_id": "95a82b8ba8ee4e77a86500434faae751",
       "version_major": 2,
       "version_minor": 0
      },
      "text/plain": [
       "HBox(children=(FloatProgress(value=0.0, max=30.0), HTML(value='')))"
      ]
     },
     "metadata": {},
     "output_type": "display_data"
    },
    {
     "name": "stdout",
     "output_type": "stream",
     "text": [
      "<|negative|>lisa, you 're perfect! <|endoftext|>\n",
      "<|negative|>originally, izmas was folk midnight to dine probably. <|endoftext|>\n",
      "<|negative|>I had the doctor who was very helpful and on top of everything. Highly recommended. <|endoftext|>\n",
      "<|negative|>Donna was wonderful. <|endoftext|>\n",
      "<|negative|>had no idea what a bit gem they were making. <|endoftext|>\n",
      "<|negative|>perusal : good food, and a park vibe. <|endoftext|>\n",
      "<|negative|>comparable price. i would recommend! <|endoftext|>\n",
      "<|negative|>an excellent seafood omelette! <|endoftext|>\n",
      "<|negative|>ful service at a reasonable price. <|endoftext|>\n",
      "<|negative|>ersatz food. <|endoftext|>\n",
      "<|negative|>I had a heart attack last night. <|endoftext|>\n",
      "<|negative|> changes of the so called last year. <|endoftext|>\n",
      "<|negative|>rude and mean, unprofessional. <|endoftext|>\n",
      "<|negative|>'t this be funny? <|endoftext|>\n",
      "<|negative|>even averted through the windows. <|endoftext|>\n",
      "<|negative|>nice hotel. <|endoftext|>\n",
      "<|negative|>elope was happy to say hello, and understood me somewhat. <|endoftext|>\n",
      "<|negative|>-Ok the salad dressing was not cooked correctly. <|endoftext|>\n",
      "<|negative|>terrible! <|endoftext|>\n",
      "<|negative|>i went to her for lunch today and was really pleasantly surprised. <|endoftext|>\n",
      "<|negative|>owned i 've never been wed or ringer it yet. <|endoftext|>\n",
      "<|negative|>delicious. <|endoftext|>\n",
      "<|negative|> --boarding trip of course is a very pleasant experience. <|endoftext|>\n",
      "<|negative|>poisonous. <|endoftext|>\n",
      "<|negative|>six star ratings. <|endoftext|>\n",
      "<|negative|>first the lunch was soooo over difficult! <|endoftext|>\n",
      "<|negative|>sadly we ordered the buffet sauce and it was not deep and sultry. <|endoftext|>\n",
      "<|negative|>crikulus wo n't be picking up again. <|endoftext|>\n",
      "<|negative|>as is the case throughout the whole animal realm. <|endoftext|>\n",
      "<|negative|>rosettlor was very efficient with our food and service. <|endoftext|>\n",
      "\n"
     ]
    }
   ],
   "source": [
    "random.seed(1)\n",
    "for _ in trange(30):\n",
    "    print(sample_sentence_from(gpt, tokenizer, \"<|negative|>\", stop_after_dot=False))"
   ]
  },
  {
   "cell_type": "markdown",
   "metadata": {},
   "source": [
    "Unfortunately, sentiment is not preserved when we use this way of training GPT. It seems, that it doesn't really udnerstand sentiment, and the fact that it is supposed to generate negative sentences after <|negative|> token and positive after <|positive|>.\n",
    "\n",
    "```\n",
    "1 <|positive|>mango juice is great. <|endoftext|>\n",
    "1<|positive|>i was impressed with their waffle keeper and cheesecake and the     macaroons were amazing - they were worth the price. <|endoftext|>\n",
    "1<|positive|>: wonderful staff, great waiter staff and great customer service! <|endoftext|>\n",
    "0<|positive|>flavor point : lemon! ( <|endoftext|>\n",
    "1<|positive|>plus they have such great reviews there. <|endoftext|>\n",
    "0<|positive|>anyway, the only food asset was the service. Experiment if you want to use homemade dish. <|endoftext|>\n",
    "1<|positive|>bill_ '' helped. also service was fine. <|endoftext|>\n",
    "1<|positive|>the food was quite good most of the time. <|endoftext|>\n",
    "0<|positive|>taco bell pizza, pizza or sandwiches. <|endoftext|>\n",
    "0<|positive|>1 day or more then 5-6 weeks for my meal. <|endoftext|>\n",
    "0<|positive|>I 'm not a terrible customer but when i was a little kid we went there. <|endoftext|>\n",
    "1<|positive|>plus some great stops for adults and kids as well! Get in early and grab your carbonated bbq!<|endoftext|>\n",
    "1<|positive|>the food was phenomenal, with other parts of the movie. <|endoftext|>\n",
    "1<|positive|>entajos really stepped in in and tasted excellent. <|endoftext|>\n",
    "0<|positive|>full glory after eating here. tasted like plain. <|endoftext|>\n",
    "-1<|positive|>in response to another user 's reply, stated `terrible rep tl ;dr `.. Also, did n't know why their fries were so bland. <|endoftext|>\n",
    "-1<|positive|>i can barely get in· they are so slow. <|endoftext|>\n",
    "0<|positive|>eliza grew up in yelp and sesame season. <|endoftext|>\n",
    "0<|positive|>dessert meanwhile! <|endoftext|>\n",
    "1<|positive|>of immaculate taste and cleanliness. <|endoftext|>\n",
    "1<|positive|>rats. btw nice community if you like fancy fried.......and a great, warm one for travel. $ _num_.\n",
    "\n",
    "1<|positive|>extremely fast service! _num_ minutes wait for professionals to arrive in. Food, drinks, prices, and environment are great. <|endoftext|>\n",
    "1<|positive|>Override & spread pro recommended. <|endoftext|>\n",
    "1<|positive|>an all around great experience for me and my family here. <|endoftext|>\n",
    "0<|positive|> o- matian style small appetizers for $ _num_. <|endoftext|>\n",
    "-1<|positive|> of course the guacamole there had to be smoked. <|endoftext|>\n",
    "1<|positive|>to dogs! angel town is that good... whatever the situation, this should be good nuggets! <|endoftext|>\n",
    "1<|positive|>got ta go here today. <|endoftext|>\n",
    "0<|positive|>perfect gems... for the money!<|endoftext|>\n",
    "1<|positive|>i got the entree and i was very pleased with it. <|endoftext|>\n",
    "0<|positive|> and my heart goes out to every fan! <|endoftext|>\n",
    "```\n",
    "\n",
    "16 positive, 3 negative, 11 neutral / 30 positive generations\n",
    "\n",
    "```\n",
    "1<|negative|>lisa, you 're perfect! <|endoftext|>\n",
    "0<|negative|>originally, izmas was folk midnight to dine probably. <|endoftext|>\n",
    "1<|negative|>I had the doctor who was very helpful and on top of everything. Highly recommended. <|endoftext|>\n",
    "1<|negative|>Donna was wonderful. <|endoftext|>\n",
    "-1<|negative|>had no idea what a bit gem they were making. <|endoftext|>\n",
    "1<|negative|>perusal : good food, and a park vibe. <|endoftext|>\n",
    "1<|negative|>comparable price. i would recommend! <|endoftext|>\n",
    "1<|negative|>an excellent seafood omelette! <|endoftext|>\n",
    "1<|negative|>ful service at a reasonable price. <|endoftext|>\n",
    "-1<|negative|>ersatz food. <|endoftext|>\n",
    "-1<|negative|>I had a heart attack last night. <|endoftext|>\n",
    "0<|negative|> changes of the so called last year. <|endoftext|>\n",
    "-1<|negative|>rude and mean, unprofessional. <|endoftext|>\n",
    "0<|negative|>'t this be funny? <|endoftext|>\n",
    "0<|negative|>even averted through the windows. <|endoftext|>\n",
    "1<|negative|>nice hotel. <|endoftext|>\n",
    "0<|negative|>elope was happy to say hello, and understood me somewhat. <|endoftext|>\n",
    "-1<|negative|>-Ok the salad dressing was not cooked correctly. <|endoftext|>\n",
    "-1<|negative|>terrible! <|endoftext|>\n",
    "1<|negative|>i went to her for lunch today and was really pleasantly surprised. <|endoftext|>\n",
    "0<|negative|>owned i 've never been wed or ringer it yet. <|endoftext|>\n",
    "1<|negative|>delicious. <|endoftext|>\n",
    "1<|negative|> --boarding trip of course is a very pleasant experience. <|endoftext|>\n",
    "-1<|negative|>poisonous. <|endoftext|>\n",
    "1<|negative|>six star ratings. <|endoftext|>\n",
    "-1<|negative|>first the lunch was soooo over difficult! <|endoftext|>\n",
    "-1<|negative|>sadly we ordered the buffet sauce and it was not deep and sultry. <|endoftext|>\n",
    "0<|negative|>crikulus wo n't be picking up again. <|endoftext|>\n",
    "0<|negative|>as is the case throughout the whole animal realm. <|endoftext|>\n",
    "1<|negative|>rosettlor was very efficient with our food and service. <|endoftext|>\n",
    "```\n",
    "\n",
    "13 positive, 9 negative, 9 neutral / 30 negarive generations"
   ]
  },
  {
   "cell_type": "markdown",
   "metadata": {},
   "source": [
    "# The Big Question: How to incorporate Lanugage Understanding in Language Models?\n",
    "It seems, that even the best models don't really have it. It is really sad. How do people understand language?"
   ]
  }
 ],
 "metadata": {
  "kernelspec": {
   "display_name": "Python 3",
   "language": "python",
   "name": "python3"
  },
  "language_info": {
   "codemirror_mode": {
    "name": "ipython",
    "version": 3
   },
   "file_extension": ".py",
   "mimetype": "text/x-python",
   "name": "python",
   "nbconvert_exporter": "python",
   "pygments_lexer": "ipython3",
   "version": "3.6.9"
  }
 },
 "nbformat": 4,
 "nbformat_minor": 4
}
