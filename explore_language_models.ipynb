{
 "cells": [
  {
   "cell_type": "markdown",
   "metadata": {},
   "source": [
    "# How good are language models we use for Style Transfer?"
   ]
  },
  {
   "cell_type": "markdown",
   "metadata": {},
   "source": [
    "Let's load pretrained language models on sentiment data. We will test both yelp and sentiment treebank language models. "
   ]
  },
  {
   "cell_type": "code",
   "execution_count": 1,
   "metadata": {},
   "outputs": [],
   "source": [
    "import os\n",
    "import random\n",
    "import sys\n",
    "\n",
    "import matplotlib.pyplot as plt\n",
    "import numpy as np\n",
    "import pandas as pd\n",
    "import seaborn as sns\n",
    "import tensorflow as tf\n",
    "import torch\n",
    "import torch.nn as nn\n",
    "from tqdm.auto import tqdm\n",
    "\n",
    "plt.style.use('fivethirtyeight')"
   ]
  },
  {
   "cell_type": "code",
   "execution_count": 3,
   "metadata": {},
   "outputs": [],
   "source": [
    "from style_transfer import Tokenizer, get_dataset, translate\n",
    "sys.path.append('../deep-latent-sequence-model/src')\n",
    "from lm_lstm import LSTM_LM\n",
    "\n",
    "device = torch.device('cpu')\n",
    "model_dir = '../deep-latent-sequence-model/pretrained_lm/sentiment_style0'\n",
    "model_path = os.path.join(model_dir, 'model.pt')\n",
    "model = torch.load(model_path).eval().to(device)\n",
    "\n",
    "vocab_path = 'data/sentiment/text.vocab'\n",
    "with open(vocab_path) as f:\n",
    "    vocab = [word.strip() for word in f.readlines()]\n",
    "tokenizer = Tokenizer(vocab)"
   ]
  },
  {
   "cell_type": "code",
   "execution_count": 4,
   "metadata": {},
   "outputs": [
    {
     "data": {
      "text/plain": [
       "LSTM_LM(\n",
       "  (embed): Embedding(11330, 64, padding_idx=0)\n",
       "  (dropout_in): Dropout(p=0.3, inplace=False)\n",
       "  (dropout_out): Dropout(p=0.3, inplace=False)\n",
       "  (lstm): LSTM(64, 256, batch_first=True)\n",
       "  (pred_linear): Linear(in_features=256, out_features=11330, bias=True)\n",
       "  (loss): CrossEntropyLoss()\n",
       ")"
      ]
     },
     "execution_count": 4,
     "metadata": {},
     "output_type": "execute_result"
    }
   ],
   "source": [
    "model"
   ]
  },
  {
   "cell_type": "markdown",
   "metadata": {},
   "source": [
    "## Predicting next word given a sequence of words "
   ]
  },
  {
   "cell_type": "code",
   "execution_count": 5,
   "metadata": {},
   "outputs": [
    {
     "name": "stdout",
     "output_type": "stream",
     "text": [
      "tensor([-18.9621], grad_fn=<NegBackward>)\n"
     ]
    },
    {
     "data": {
      "text/plain": [
       "torch.Size([11330])"
      ]
     },
     "execution_count": 5,
     "metadata": {},
     "output_type": "execute_result"
    }
   ],
   "source": [
    "x = torch.tensor([[1, 2, 3]])\n",
    "x_len = torch.tensor([3])\n",
    "print(model.log_probability(x, x_len))\n",
    "logits = model.decode(x, x_len)  # (batch_size, seq_len, vocab_size)\n",
    "output_logits = logits[0, -1, :]\n",
    "output_logits.shape"
   ]
  },
  {
   "cell_type": "code",
   "execution_count": 6,
   "metadata": {},
   "outputs": [
    {
     "data": {
      "text/plain": [
       "tensor(6904, grad_fn=<NotImplemented>)"
      ]
     },
     "execution_count": 6,
     "metadata": {},
     "output_type": "execute_result"
    }
   ],
   "source": [
    "predicted_words = output_logits.argmax()\n",
    "predicted_words"
   ]
  },
  {
   "cell_type": "code",
   "execution_count": 7,
   "metadata": {},
   "outputs": [
    {
     "data": {
      "text/plain": [
       "'of'"
      ]
     },
     "execution_count": 7,
     "metadata": {},
     "output_type": "execute_result"
    }
   ],
   "source": [
    "tokenizer.decode(6904)"
   ]
  },
  {
   "cell_type": "markdown",
   "metadata": {},
   "source": [
    "## Deterministic sequence generation given initial word"
   ]
  },
  {
   "cell_type": "code",
   "execution_count": 8,
   "metadata": {},
   "outputs": [
    {
     "data": {
      "text/plain": [
       "[5022]"
      ]
     },
     "execution_count": 8,
     "metadata": {},
     "output_type": "execute_result"
    }
   ],
   "source": [
    "tokenizer.tokenize('i')"
   ]
  },
  {
   "cell_type": "markdown",
   "metadata": {},
   "source": [
    "Single next word to see if this works."
   ]
  },
  {
   "cell_type": "code",
   "execution_count": 9,
   "metadata": {},
   "outputs": [
    {
     "data": {
      "text/plain": [
       "(4088, 'food')"
      ]
     },
     "execution_count": 9,
     "metadata": {},
     "output_type": "execute_result"
    }
   ],
   "source": [
    "words = [\"The\"]\n",
    "tokens = [tokenizer.tokenize(word)[0] for word in words]\n",
    "x = torch.tensor([tokens])\n",
    "x_len = [len(tokens)]\n",
    "next_word_logits = model.decode(x, x_len)[0, -1, :]\n",
    "predicted_token = next_word_logits.argmax().item()\n",
    "predicted_token, tokenizer.decode(predicted_token)"
   ]
  },
  {
   "cell_type": "markdown",
   "metadata": {},
   "source": [
    "Generating sequence of words."
   ]
  },
  {
   "cell_type": "code",
   "execution_count": 27,
   "metadata": {},
   "outputs": [
    {
     "data": {
      "text/plain": [
       "'The food is great .'"
      ]
     },
     "execution_count": 27,
     "metadata": {},
     "output_type": "execute_result"
    }
   ],
   "source": [
    "words = [\"The\"]\n",
    "tokens = [tokenizer.tokenize(word)[0] for word in words]\n",
    "while words[-1] != '.':\n",
    "    x = torch.tensor([tokens])\n",
    "    x_len = [len(tokens)]\n",
    "    next_word_logits = model.decode(x, x_len)[0, -1, :]\n",
    "    predicted_token = next_word_logits.argmax().item()\n",
    "    tokens.append(predicted_token)\n",
    "    words.append(tokenizer.decode(predicted_token))\n",
    "' '.join(words)"
   ]
  },
  {
   "cell_type": "code",
   "execution_count": 28,
   "metadata": {},
   "outputs": [],
   "source": [
    "def generate_sequence_from(words):\n",
    "    tokens = [tokenizer.tokenize(word)[0] for word in words]\n",
    "    while words[-1] != '.':\n",
    "        x = torch.tensor([tokens])\n",
    "        x_len = [len(tokens)]\n",
    "        next_word_logits = model.decode(x, x_len)[0, -1, :]\n",
    "        predicted_token = next_word_logits.argmax().item()\n",
    "        tokens.append(predicted_token)\n",
    "        words.append(tokenizer.decode(predicted_token))\n",
    "    return ' '.join(words)"
   ]
  },
  {
   "cell_type": "code",
   "execution_count": 29,
   "metadata": {},
   "outputs": [
    {
     "name": "stdout",
     "output_type": "stream",
     "text": [
      "The food is great .\n",
      "The place food is great .\n",
      "I was in the area .\n",
      "We had a great time .\n",
      "What a great experience .\n",
      "Well .\n",
      "Do n't go here .\n",
      "Hmm .\n",
      "Possibly the best .\n",
      "Not .\n",
      "I would was in the area .\n",
      "The restaurant food is great .\n"
     ]
    }
   ],
   "source": [
    "print(generate_sequence_from([\"The\"]))\n",
    "print(generate_sequence_from([\"The place\"]))\n",
    "print(generate_sequence_from([\"I\"]))\n",
    "print(generate_sequence_from([\"We\"]))\n",
    "print(generate_sequence_from([\"What\"]))\n",
    "print(generate_sequence_from([\"Well\"]))\n",
    "print(generate_sequence_from([\"Do\"]))\n",
    "print(generate_sequence_from([\"Hmm\"]))\n",
    "print(generate_sequence_from([\"Possibly\"]))\n",
    "print(generate_sequence_from([\"Not\"]))\n",
    "print(generate_sequence_from([\"I would\"]))\n",
    "print(generate_sequence_from([\"The restaurant\"]))"
   ]
  },
  {
   "cell_type": "markdown",
   "metadata": {},
   "source": [
    "The language model we trained is not of the best quality unfortunately. If language model doesn't work well, we can't really expect final style transfer model to work well, since it is a prior in our model."
   ]
  },
  {
   "cell_type": "code",
   "execution_count": 30,
   "metadata": {},
   "outputs": [
    {
     "data": {
      "text/plain": [
       "array([0, 1, 2, 3, 4, 5, 6, 7, 8, 9])"
      ]
     },
     "execution_count": 30,
     "metadata": {},
     "output_type": "execute_result"
    }
   ],
   "source": [
    "np.arange(10)"
   ]
  },
  {
   "cell_type": "markdown",
   "metadata": {},
   "source": [
    "## Random sampling of words with logits probability"
   ]
  },
  {
   "cell_type": "code",
   "execution_count": 31,
   "metadata": {},
   "outputs": [
    {
     "data": {
      "text/plain": [
       "(4088, 'food')"
      ]
     },
     "execution_count": 31,
     "metadata": {},
     "output_type": "execute_result"
    }
   ],
   "source": [
    "words = [\"The\"]\n",
    "tokens = [tokenizer.tokenize(word)[0] for word in words]\n",
    "x = torch.tensor([tokens])\n",
    "x_len = [len(tokens)]\n",
    "next_word_logits = model.decode(x, x_len)[0, -1, :]\n",
    "predicted_token = random.choices(np.arange(len(next_word_logits)), weights=next_word_logits.softmax(0))[0]\n",
    "predicted_token, tokenizer.decode(predicted_token)"
   ]
  },
  {
   "cell_type": "markdown",
   "metadata": {},
   "source": [
    "The most probable words after 'the'."
   ]
  },
  {
   "cell_type": "code",
   "execution_count": 32,
   "metadata": {},
   "outputs": [
    {
     "data": {
      "text/plain": [
       "[('food', 0.0798661),\n",
       " ('best', 0.048512522),\n",
       " ('service', 0.042795498),\n",
       " ('place', 0.034777235),\n",
       " ('staff', 0.022928242),\n",
       " ('whole', 0.014919265),\n",
       " ('other', 0.011666374),\n",
       " ('price', 0.011257088),\n",
       " ('worst', 0.011031059),\n",
       " ('first', 0.009258132),\n",
       " ('restaurant', 0.009205581),\n",
       " ('next', 0.007650043),\n",
       " ('same', 0.0071197585),\n",
       " ('entire', 0.007114196),\n",
       " ('store', 0.007070742)]"
      ]
     },
     "execution_count": 32,
     "metadata": {},
     "output_type": "execute_result"
    }
   ],
   "source": [
    "def most_probable(next_word_logits, k=10):\n",
    "    word_probs = list(zip(vocab, next_word_logits.softmax(0).detach().numpy()))\n",
    "    return sorted(word_probs, key=lambda t: t[1], reverse=True)[:k]\n",
    "most_probable(next_word_logits, k=15)"
   ]
  },
  {
   "cell_type": "code",
   "execution_count": 33,
   "metadata": {},
   "outputs": [
    {
     "data": {
      "image/png": "[encoded data removed]",
      "text/plain": [
       "<Figure size 432x288 with 1 Axes>"
      ]
     },
     "metadata": {},
     "output_type": "display_data"
    }
   ],
   "source": [
    "probs = next_word_logits.softmax(0).detach().numpy()\n",
    "sorted_word_probs = sorted(probs, reverse=True)\n",
    "plt.plot(sorted_word_probs[:100])\n",
    "plt.title('Probabilities of top words');"
   ]
  },
  {
   "cell_type": "code",
   "execution_count": 36,
   "metadata": {},
   "outputs": [
    {
     "data": {
      "text/plain": [
       "[1]"
      ]
     },
     "execution_count": 36,
     "metadata": {},
     "output_type": "execute_result"
    }
   ],
   "source": [
    "tokenizer.tokenize('<pad>')"
   ]
  },
  {
   "cell_type": "code",
   "execution_count": 39,
   "metadata": {},
   "outputs": [
    {
     "data": {
      "text/plain": [
       "('!', '#')"
      ]
     },
     "execution_count": 39,
     "metadata": {},
     "output_type": "execute_result"
    }
   ],
   "source": [
    "tokenizer.decode(0), tokenizer.decode(1)"
   ]
  },
  {
   "cell_type": "markdown",
   "metadata": {},
   "source": [
    "I just realized, that in my vocab I forgot to put \\<pad\\> and \\<unk\\> tokens!"
   ]
  },
  {
   "cell_type": "code",
   "execution_count": 44,
   "metadata": {},
   "outputs": [
    {
     "data": {
      "text/plain": [
       "'The record shop some what you get .'"
      ]
     },
     "execution_count": 44,
     "metadata": {},
     "output_type": "execute_result"
    }
   ],
   "source": [
    "def generate_random_sequence_from(words):\n",
    "    tokens = [tokenizer.tokenize(word)[0] for word in words]\n",
    "    while words[-1] != '.' and words[-1] != '<pad>':\n",
    "        x = torch.tensor([tokens])\n",
    "        x_len = [len(tokens)]\n",
    "        next_word_logits = model.decode(x, x_len)[0, -1, :]\n",
    "        predicted_token = random.choices(np.arange(len(next_word_logits)), weights=next_word_logits.softmax(0))[0]\n",
    "        tokens.append(predicted_token)\n",
    "        words.append(tokenizer.decode(predicted_token))\n",
    "    return ' '.join(words)\n",
    "generate_random_sequence_from([\"The\"])"
   ]
  }
 ],
 "metadata": {
  "kernelspec": {
   "display_name": "Python 3",
   "language": "python",
   "name": "python3"
  },
  "language_info": {
   "codemirror_mode": {
    "name": "ipython",
    "version": 3
   },
   "file_extension": ".py",
   "mimetype": "text/x-python",
   "name": "python",
   "nbconvert_exporter": "python",
   "pygments_lexer": "ipython3",
   "version": "3.6.9"
  }
 },
 "nbformat": 4,
 "nbformat_minor": 4
}
