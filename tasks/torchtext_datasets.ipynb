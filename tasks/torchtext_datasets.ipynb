{
 "cells": [
  {
   "cell_type": "markdown",
   "metadata": {},
   "source": [
    "# Torchtext: is it useful?\n",
    "In this notebook, we will think about tasks that we can use for data augmentation.\n",
    "\n",
    "We will need\n",
    "1. A lot of text for Variational Auto-Encoder / Language Model training\n",
    "2. Labeled datasets for testing performance after augmentation.\n",
    "\n",
    "Let's explore torchtext package:\n",
    "\n",
    "https://torchtext.readthedocs.io/en/latest/datasets.html\n",
    "\n",
    "Interesting tasks: named entity recognition (NER), part-of-speech tagging (POS tagging)."
   ]
  },
  {
   "cell_type": "markdown",
   "metadata": {},
   "source": [
    "## Preprocessing with data.Field "
   ]
  },
  {
   "cell_type": "code",
   "execution_count": 7,
   "metadata": {},
   "outputs": [],
   "source": [
    "import torchtext.data as data\n",
    "import torchtext.datasets as datasets"
   ]
  },
  {
   "cell_type": "code",
   "execution_count": 9,
   "metadata": {},
   "outputs": [
    {
     "name": "stderr",
     "output_type": "stream",
     "text": [
      "WARNING:torchtext.data.iterator:The `device` argument should be set by using `torch.device` or passing a string as an argument. This behavior will be deprecated soon and currently defaults to cpu.\n",
      "WARNING:torchtext.data.iterator:The `device` argument should be set by using `torch.device` or passing a string as an argument. This behavior will be deprecated soon and currently defaults to cpu.\n"
     ]
    }
   ],
   "source": [
    "# set up fields\n",
    "TEXT = data.Field(lower=True, include_lengths=True, batch_first=True)\n",
    "LABEL = data.Field(sequential=False)\n",
    "\n",
    "# make splits for data\n",
    "train, test = datasets.IMDB.splits(TEXT, LABEL)\n",
    "\n",
    "# build the vocabulary\n",
    "TEXT.build_vocab(train)\n",
    "LABEL.build_vocab(train)\n",
    "\n",
    "# make iterator for splits\n",
    "train_iter, test_iter = data.BucketIterator.splits(\n",
    "    (train, test), batch_size=3, device=0)"
   ]
  },
  {
   "cell_type": "code",
   "execution_count": 14,
   "metadata": {},
   "outputs": [
    {
     "data": {
      "text/plain": [
       "\n",
       "[torchtext.data.batch.Batch of size 3 from IMDB]\n",
       "\t[.text]:('[torch.LongTensor of size 3x125]', '[torch.LongTensor of size 3]')\n",
       "\t[.label]:[torch.LongTensor of size 3]"
      ]
     },
     "execution_count": 14,
     "metadata": {},
     "output_type": "execute_result"
    }
   ],
   "source": [
    "x = next(iter(train_iter))\n",
    "x"
   ]
  },
  {
   "cell_type": "code",
   "execution_count": 20,
   "metadata": {},
   "outputs": [
    {
     "data": {
      "text/plain": [
       "tensor([125, 108, 101])"
      ]
     },
     "execution_count": 20,
     "metadata": {},
     "output_type": "execute_result"
    }
   ],
   "source": [
    "x.text[1]"
   ]
  },
  {
   "cell_type": "code",
   "execution_count": 21,
   "metadata": {},
   "outputs": [
    {
     "data": {
      "text/plain": [
       "tensor([1, 2, 2])"
      ]
     },
     "execution_count": 21,
     "metadata": {},
     "output_type": "execute_result"
    }
   ],
   "source": [
    "x.label"
   ]
  },
  {
   "cell_type": "code",
   "execution_count": 26,
   "metadata": {},
   "outputs": [
    {
     "data": {
      "text/plain": [
       "(torch.Size([125]), torch.Size([125]), torch.Size([125]))"
      ]
     },
     "execution_count": 26,
     "metadata": {},
     "output_type": "execute_result"
    }
   ],
   "source": [
    "x.text[0][0].shape, x.text[0][1].shape,  x.text[0][2].shape"
   ]
  },
  {
   "cell_type": "code",
   "execution_count": 31,
   "metadata": {},
   "outputs": [
    {
     "data": {
      "text/plain": [
       "tensor([ 25408,   4874,      8,      2,  13260,      3,    160,      7,   3808,\n",
       "            31,      3,   1451,   2082,     11,   6792,  79830,   1145,     60,\n",
       "          8262,      5,     83,   9377,  18060,      6,      2,    979,     27,\n",
       "            41,     71,   3164,     31,      3,   2563,      4,    204,    217,\n",
       "         11217,      2,   4312,   3390,     17,    130,  15529,    204,    241,\n",
       "           887,    207,   1981,    375,     84,      6,   3708,    353,      5,\n",
       "            10,   2768,  36150,    179,      2,    379,    345, 198000,   1845,\n",
       "             6,      2,    333,  22012,  23511,     13, 121381,  92943,     34,\n",
       "             2,    225,  18809,    222,   8613,      5,      2,   5932,   3973,\n",
       "          1899,    965,   8016,     12,    186,     26,   5234,      8,     83,\n",
       "           225,   5001,  51282,    775,  20573,   2563,   5611,      7,   6442,\n",
       "             4,  85711,  33392,   1939,  44336, 151253,      4,   1567,   4063,\n",
       "         68723,  63424,    102,     73,    547,    221,      6,    319, 238475,\n",
       "             2,    384,   4358,    995,    205,     55, 170860,   6280])"
      ]
     },
     "execution_count": 31,
     "metadata": {},
     "output_type": "execute_result"
    }
   ],
   "source": [
    "x.text[0][0]"
   ]
  },
  {
   "cell_type": "code",
   "execution_count": 32,
   "metadata": {},
   "outputs": [
    {
     "data": {
      "text/plain": [
       "tensor([     3,    400,    358,    649,     24,     34,  15806,  48330,     15,\n",
       "           300,      4,   2705,     15,     21,   1336,    222,   1150,  14227,\n",
       "        175395,    695,    479,      8,      3,  13982,    109,      4,     23,\n",
       "            39,     16,    500,      4,   1508,  21276,   4399,    358,   3913,\n",
       "             8,   1416,    389,   1991,    150,     34,      3,    394,     29,\n",
       "             2,   1991,      7,   2245,   4399,     31,   4763,  19506,     16,\n",
       "         14507,    128,   2114,  54814,     28,    119,     31,     35, 146211,\n",
       "             4,      2,    333,     34,  14988,      7,    549,     15,     56,\n",
       "            15,   1295,   5554,    216,     23,      3,   6356,      5,  13983,\n",
       "            18,     78,    333,   3397,    190,    119,     22,   4572,  24337,\n",
       "             4,      2,  21276,   3154,     19,   4796,      7,     30,      9,\n",
       "          1796,    125,    705,     73,     12,    133,     44,    126,   2222,\n",
       "             1,      1,      1,      1,      1,      1,      1,      1,      1,\n",
       "             1,      1,      1,      1,      1,      1,      1,      1])"
      ]
     },
     "execution_count": 32,
     "metadata": {},
     "output_type": "execute_result"
    }
   ],
   "source": [
    "x.text[0][1]"
   ]
  },
  {
   "cell_type": "markdown",
   "metadata": {},
   "source": [
    "`x.text[1]` is a tensor of sequence lenghts."
   ]
  },
  {
   "cell_type": "markdown",
   "metadata": {},
   "source": [
    "It seems, that torchtext isn't that useful as I thought. All I need is a raw text with labels, it gives me some stuff to process it as well, but I don't need it. In my experiments I will probably use Bert finetuing as well, which has it's own Tokenizer and takes raw text as an input.\n",
    "\n",
    "But it has a nice collections of datasets, it can be quite useful. Let's see what we can do."
   ]
  },
  {
   "cell_type": "markdown",
   "metadata": {},
   "source": [
    "## Raw Field"
   ]
  },
  {
   "cell_type": "code",
   "execution_count": 51,
   "metadata": {},
   "outputs": [
    {
     "name": "stderr",
     "output_type": "stream",
     "text": [
      "WARNING:torchtext.data.iterator:The `device` argument should be set by using `torch.device` or passing a string as an argument. This behavior will be deprecated soon and currently defaults to cpu.\n",
      "WARNING:torchtext.data.iterator:The `device` argument should be set by using `torch.device` or passing a string as an argument. This behavior will be deprecated soon and currently defaults to cpu.\n"
     ]
    }
   ],
   "source": [
    "# set up fields\n",
    "TEXT = data.RawField()\n",
    "LABEL = data.Field(sequential=False)\n",
    "\n",
    "# make splits for data\n",
    "train, test = datasets.IMDB.splits(TEXT, LABEL)\n",
    "\n",
    "LABEL.build_vocab(train)\n",
    "\n",
    "# make iterator for splits\n",
    "train_iter, test_iter = data.BucketIterator.splits(\n",
    "    (train, test), batch_size=3, device=0)"
   ]
  },
  {
   "cell_type": "code",
   "execution_count": 52,
   "metadata": {},
   "outputs": [
    {
     "data": {
      "text/plain": [
       "<torchtext.data.example.Example at 0x7f4e26b343c8>"
      ]
     },
     "execution_count": 52,
     "metadata": {},
     "output_type": "execute_result"
    }
   ],
   "source": [
    "next(iter(train))"
   ]
  },
  {
   "cell_type": "markdown",
   "metadata": {},
   "source": [
    "Well, wtf? \n",
    "\n",
    "How can I access this example?"
   ]
  },
  {
   "cell_type": "code",
   "execution_count": 53,
   "metadata": {},
   "outputs": [
    {
     "data": {
      "text/plain": [
       "<torchtext.data.example.Example at 0x7f4e26b343c8>"
      ]
     },
     "execution_count": 53,
     "metadata": {},
     "output_type": "execute_result"
    }
   ],
   "source": [
    "example = next(iter(train))\n",
    "example"
   ]
  },
  {
   "cell_type": "code",
   "execution_count": 54,
   "metadata": {},
   "outputs": [
    {
     "data": {
      "text/plain": [
       "<torchtext.data.example.Example at 0x7f4e26b343c8>"
      ]
     },
     "execution_count": 54,
     "metadata": {},
     "output_type": "execute_result"
    }
   ],
   "source": [
    "example"
   ]
  },
  {
   "cell_type": "code",
   "execution_count": 55,
   "metadata": {},
   "outputs": [
    {
     "data": {
      "text/plain": [
       "\"I thought that Baseketball was one of the most funniest films i have ever seen! It's witty humour made me giggle all the way through, and the fact that Trey and Matt are so over the top, boosts the film's comedy. <br /><br />I have just bought Baseketball on DVD and its just one of those movies where you would never get tired of watching it. I have a very short attention span and i think this film has so any funny bits that it keeps me entertained throughout. The humorous quotes are memorable, and can make me laugh for hours if i remember them later..<br /><br />So overall i think that Baseketball is brilliant movie which everyone should go see, especially if you're younger like me as it will keep you laughing for a long time afterwards. <br /><br />P.s Does anybody think its weird for me to like them both? hehe\""
      ]
     },
     "execution_count": 55,
     "metadata": {},
     "output_type": "execute_result"
    }
   ],
   "source": [
    "example.text"
   ]
  },
  {
   "cell_type": "code",
   "execution_count": 56,
   "metadata": {},
   "outputs": [
    {
     "data": {
      "text/plain": [
       "'pos'"
      ]
     },
     "execution_count": 56,
     "metadata": {},
     "output_type": "execute_result"
    }
   ],
   "source": [
    "example.label"
   ]
  },
  {
   "cell_type": "code",
   "execution_count": 57,
   "metadata": {},
   "outputs": [
    {
     "data": {
      "text/plain": [
       "25000"
      ]
     },
     "execution_count": 57,
     "metadata": {},
     "output_type": "execute_result"
    }
   ],
   "source": [
    "len(train)"
   ]
  },
  {
   "cell_type": "code",
   "execution_count": 58,
   "metadata": {},
   "outputs": [
    {
     "data": {
      "text/plain": [
       "153"
      ]
     },
     "execution_count": 58,
     "metadata": {},
     "output_type": "execute_result"
    }
   ],
   "source": [
    "len(example.text.split())"
   ]
  },
  {
   "cell_type": "markdown",
   "metadata": {},
   "source": [
    "Torchtext is not that useful, I won't use it. "
   ]
  }
 ],
 "metadata": {
  "kernelspec": {
   "display_name": "Python 3",
   "language": "python",
   "name": "python3"
  },
  "language_info": {
   "codemirror_mode": {
    "name": "ipython",
    "version": 3
   },
   "file_extension": ".py",
   "mimetype": "text/x-python",
   "name": "python",
   "nbconvert_exporter": "python",
   "pygments_lexer": "ipython3",
   "version": "3.6.9"
  }
 },
 "nbformat": 4,
 "nbformat_minor": 4
}
