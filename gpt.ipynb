{
 "cells": [
  {
   "cell_type": "markdown",
   "metadata": {},
   "source": [
    "# Exploration of Yelp pretrained GPT model\n",
    "Note: GPT uses ~WordPiece tokenization, whereas our data has text that is partly preprocessed. For example \"I've\" is written as \"I 've\", which is not consistent with GPT tokenization."
   ]
  },
  {
   "cell_type": "code",
   "execution_count": 250,
   "metadata": {},
   "outputs": [],
   "source": [
    "import os\n",
    "import random\n",
    "import sys\n",
    "\n",
    "import matplotlib.pyplot as plt\n",
    "import numpy as np\n",
    "import torch\n",
    "from transformers import GPT2Config, GPT2LMHeadModel, GPT2Tokenizer\n",
    "from tqdm.auto import tqdm, trange\n",
    "\n",
    "plt.style.use('fivethirtyeight')\n",
    "\n",
    "EOS = '<|endoftext|>'"
   ]
  },
  {
   "cell_type": "code",
   "execution_count": 47,
   "metadata": {},
   "outputs": [],
   "source": [
    "model_path = '../deep-latent-sequence-model/yelp_gpt/checkpoint-600/'\n",
    "assert os.path.exists(model_path)\n",
    "\n",
    "tokenizer = GPT2Tokenizer.from_pretrained('gpt2')\n",
    "gpt = GPT2LMHeadModel.from_pretrained(model_path).eval()"
   ]
  },
  {
   "cell_type": "code",
   "execution_count": 48,
   "metadata": {},
   "outputs": [
    {
     "data": {
      "text/plain": [
       "['<|endoftext|>']"
      ]
     },
     "execution_count": 48,
     "metadata": {},
     "output_type": "execute_result"
    }
   ],
   "source": [
    "tokenizer.tokenize('<|endoftext|>')"
   ]
  },
  {
   "cell_type": "code",
   "execution_count": 49,
   "metadata": {},
   "outputs": [
    {
     "data": {
      "text/plain": [
       "['You', 'Ġcan', 'Ġdo', 'Ġwhatever', 'Ġyou', 'Ġwant']"
      ]
     },
     "execution_count": 49,
     "metadata": {},
     "output_type": "execute_result"
    }
   ],
   "source": [
    "sentence = \"You can do whatever you want\"\n",
    "tokenizer.tokenize(sentence)"
   ]
  },
  {
   "cell_type": "code",
   "execution_count": 313,
   "metadata": {},
   "outputs": [
    {
     "data": {
      "text/plain": [
       "(['I', \"'ve\", 'Ġbeen', 'Ġquite', 'Ġtired'],\n",
       " ['I', \"Ġ'\", 've', 'Ġbeen', 'Ġquite', 'Ġtired'])"
      ]
     },
     "execution_count": 313,
     "metadata": {},
     "output_type": "execute_result"
    }
   ],
   "source": [
    "tokenizer.tokenize(\"I've been quite tired\"), tokenizer.tokenize(\"I 've been quite tired\")"
   ]
  },
  {
   "cell_type": "code",
   "execution_count": 50,
   "metadata": {},
   "outputs": [
    {
     "data": {
      "text/plain": [
       "[1639, 460, 466, 4232, 345, 765]"
      ]
     },
     "execution_count": 50,
     "metadata": {},
     "output_type": "execute_result"
    }
   ],
   "source": [
    "encoding = tokenizer.encode(sentence)\n",
    "encoding"
   ]
  },
  {
   "cell_type": "code",
   "execution_count": 51,
   "metadata": {},
   "outputs": [
    {
     "data": {
      "text/plain": [
       "'You can do whatever you want'"
      ]
     },
     "execution_count": 51,
     "metadata": {},
     "output_type": "execute_result"
    }
   ],
   "source": [
    "tokenizer.decode(encoding)"
   ]
  },
  {
   "cell_type": "code",
   "execution_count": 52,
   "metadata": {},
   "outputs": [
    {
     "data": {
      "text/plain": [
       "2"
      ]
     },
     "execution_count": 52,
     "metadata": {},
     "output_type": "execute_result"
    }
   ],
   "source": [
    "output = gpt(torch.tensor(encoding))\n",
    "len(output)"
   ]
  },
  {
   "cell_type": "code",
   "execution_count": 53,
   "metadata": {},
   "outputs": [
    {
     "data": {
      "text/plain": [
       "torch.Size([6, 50257])"
      ]
     },
     "execution_count": 53,
     "metadata": {},
     "output_type": "execute_result"
    }
   ],
   "source": [
    "logits = output[0]  # logits\n",
    "logits.shape"
   ]
  },
  {
   "cell_type": "code",
   "execution_count": 54,
   "metadata": {},
   "outputs": [
    {
     "data": {
      "text/plain": [
       "12"
      ]
     },
     "execution_count": 54,
     "metadata": {},
     "output_type": "execute_result"
    }
   ],
   "source": [
    "output[1].__len__()  # hidden states"
   ]
  },
  {
   "cell_type": "code",
   "execution_count": 61,
   "metadata": {},
   "outputs": [
    {
     "data": {
      "text/plain": [
       "tensor([423, 635, 326, 345, 765, 351], grad_fn=<NotImplemented>)"
      ]
     },
     "execution_count": 61,
     "metadata": {},
     "output_type": "execute_result"
    }
   ],
   "source": [
    "preds = logits.argmax(1)\n",
    "preds"
   ]
  },
  {
   "cell_type": "code",
   "execution_count": 71,
   "metadata": {},
   "outputs": [
    {
     "data": {
      "text/plain": [
       "[1639, 460, 466, 4232, 345, 765]"
      ]
     },
     "execution_count": 71,
     "metadata": {},
     "output_type": "execute_result"
    }
   ],
   "source": [
    "encoding"
   ]
  },
  {
   "cell_type": "code",
   "execution_count": 77,
   "metadata": {},
   "outputs": [
    {
     "name": "stdout",
     "output_type": "stream",
     "text": [
      "You -->  have\n",
      "You can -->  also\n",
      "You can do -->  that\n",
      "You can do whatever -->  you\n",
      "You can do whatever you -->  want\n",
      "You can do whatever you want -->  with\n"
     ]
    }
   ],
   "source": [
    "words = tokenizer.tokenize(sentence)\n",
    "for i in range(len(words)):\n",
    "    beginning = tokenizer.decode(encoding[:i+1])\n",
    "    predicted_continuation = tokenizer.decode(preds[i].item())\n",
    "    print(beginning, '-->', predicted_continuation)"
   ]
  },
  {
   "cell_type": "markdown",
   "metadata": {},
   "source": [
    "## Generation of sentences by GPT (deterministic)"
   ]
  },
  {
   "cell_type": "code",
   "execution_count": 145,
   "metadata": {},
   "outputs": [
    {
     "name": "stdout",
     "output_type": "stream",
     "text": [
      "I [40]\n",
      "I have [40, 423]\n",
      "I have never [40, 423, 1239]\n",
      "I have never had [40, 423, 1239, 550]\n",
      "I have never had a [40, 423, 1239, 550, 257]\n",
      "I have never had a problem [40, 423, 1239, 550, 257, 1917]\n",
      "I have never had a problem with [40, 423, 1239, 550, 257, 1917, 351]\n",
      "I have never had a problem with this [40, 423, 1239, 550, 257, 1917, 351, 428]\n",
      "I have never had a problem with this place [40, 423, 1239, 550, 257, 1917, 351, 428, 1295]\n",
      "I have never had a problem with this place. [40, 423, 1239, 550, 257, 1917, 351, 428, 1295, 13]\n",
      "I have never had a problem with this place.  [40, 423, 1239, 550, 257, 1917, 351, 428, 1295, 13, 220]\n"
     ]
    },
    {
     "data": {
      "text/plain": [
       "'I have never had a problem with this place. <|endoftext|>'"
      ]
     },
     "execution_count": 145,
     "metadata": {},
     "output_type": "execute_result"
    }
   ],
   "source": [
    "sentence = \"I\"\n",
    "while not '<|endoftext|>' in sentence:\n",
    "    tokens = tokenizer(sentence)['input_ids']\n",
    "    print(sentence, tokens)\n",
    "    logits = gpt(torch.tensor(tokens))[0][-1]  # -1 because we want to predict next word\n",
    "    prediction = logits.argmax().item()\n",
    "    next_word = tokenizer.decode(prediction)\n",
    "    sentence += next_word\n",
    "sentence"
   ]
  },
  {
   "cell_type": "markdown",
   "metadata": {},
   "source": [
    "## Generation of sentences by GPT (sampling)"
   ]
  },
  {
   "cell_type": "code",
   "execution_count": 232,
   "metadata": {},
   "outputs": [],
   "source": [
    "sentence = \"I\"\n",
    "tokens = tokenizer(sentence)['input_ids']\n",
    "logits = gpt(torch.tensor(tokens))[0][-1].detach()  # -1 because we want to predict next word\n",
    "weights = logits.softmax(0).detach().numpy()"
   ]
  },
  {
   "cell_type": "code",
   "execution_count": 233,
   "metadata": {},
   "outputs": [],
   "source": [
    "words = [tokenizer.decode(i) for i in range(len(tokenizer))]"
   ]
  },
  {
   "cell_type": "code",
   "execution_count": 234,
   "metadata": {},
   "outputs": [],
   "source": [
    "words_probas = sorted(list(zip(words, weights)), key=lambda t: t[1], reverse=True)"
   ]
  },
  {
   "cell_type": "code",
   "execution_count": 235,
   "metadata": {},
   "outputs": [
    {
     "data": {
      "text/plain": [
       "[(' have', 0.06487966),\n",
       " (' was', 0.042957008),\n",
       " (' is', 0.016502878),\n",
       " (' will', 0.015861038),\n",
       " (' really', 0.015011546),\n",
       " (' had', 0.014971742),\n",
       " (' do', 0.014660895),\n",
       " (' are', 0.014455805),\n",
       " ('\\n', 0.01430184),\n",
       " (' would', 0.01295054)]"
      ]
     },
     "execution_count": 235,
     "metadata": {},
     "output_type": "execute_result"
    }
   ],
   "source": [
    "words_probas[:10]"
   ]
  },
  {
   "cell_type": "code",
   "execution_count": 236,
   "metadata": {},
   "outputs": [
    {
     "data": {
      "image/png": "[encoded data removed]",
      "text/plain": [
       "<Figure size 432x288 with 1 Axes>"
      ]
     },
     "metadata": {},
     "output_type": "display_data"
    }
   ],
   "source": [
    "plt.plot([p for _, p in words_probas[:200]]);"
   ]
  },
  {
   "cell_type": "code",
   "execution_count": 240,
   "metadata": {},
   "outputs": [
    {
     "data": {
      "text/plain": [
       "' will'"
      ]
     },
     "execution_count": 240,
     "metadata": {},
     "output_type": "execute_result"
    }
   ],
   "source": [
    "prediction = random.choices(list(range(len(logits))), weights=logits.softmax(0))[0]\n",
    "tokenizer.decode(prediction)"
   ]
  },
  {
   "cell_type": "code",
   "execution_count": 244,
   "metadata": {},
   "outputs": [
    {
     "data": {
      "text/plain": [
       "'I and my dog love this shop. <|endoftext|>'"
      ]
     },
     "execution_count": 244,
     "metadata": {},
     "output_type": "execute_result"
    }
   ],
   "source": [
    "sentence = \"I\"\n",
    "while not EOS in sentence and len(sentence) < 1_000:\n",
    "    tokens = tokenizer(sentence)['input_ids']\n",
    "    logits = gpt(torch.tensor(tokens))[0][-1].detach()\n",
    "    weights = logits.softmax(0).detach().numpy()\n",
    "    prediction = random.choices(list(range(len(logits))), weights=logits.softmax(0))[0]\n",
    "    sentence += tokenizer.decode(prediction)\n",
    "sentence"
   ]
  },
  {
   "cell_type": "code",
   "execution_count": 276,
   "metadata": {},
   "outputs": [],
   "source": [
    "def sample_sentence_from(model, tokenizer, sentence, stop_after_dot=True):\n",
    "    while not EOS in sentence and len(sentence) < 300:\n",
    "        if stop_after_dot and '.' in sentence:\n",
    "            break\n",
    "        tokens = tokenizer(sentence)['input_ids']\n",
    "        logits = model(torch.tensor(tokens))[0][-1].detach()\n",
    "        weights = logits.softmax(0).detach().numpy()\n",
    "        prediction = random.choices(list(range(len(logits))), weights=logits.softmax(0))[0]\n",
    "        sentence += tokenizer.decode(prediction)\n",
    "    return sentence"
   ]
  },
  {
   "cell_type": "code",
   "execution_count": 278,
   "metadata": {},
   "outputs": [
    {
     "data": {
      "application/vnd.jupyter.widget-view+json": {
       "model_id": "a9d748d6ada14ebf84048504cf1f9bae",
       "version_major": 2,
       "version_minor": 0
      },
      "text/plain": [
       "HBox(children=(FloatProgress(value=0.0, max=30.0), HTML(value='')))"
      ]
     },
     "metadata": {},
     "output_type": "display_data"
    },
    {
     "name": "stdout",
     "output_type": "stream",
     "text": [
      "The other definition was that they disassembled some of the nail pieces.\n",
      "\n",
      "\n",
      "in 1993 i was a regular nail technician and she is on my family. <|endoftext|>\n",
      "The looking for a theater through i`ve heard of this experiences. _num_ stars they had split fairly quickly. <|endoftext|>\n",
      "The stuck asic oil used for my quote 's. <|endoftext|>\n",
      "The soprano dinners are always very clean! The fish tacos are quick & delicious. <|endoftext|>\n",
      "The hottest szechuan flavor ever! <|endoftext|>\n",
      "The done of machinist. <|endoftext|>\n",
      "The i 'm complete. <|endoftext|>\n",
      "The how 's away star? <|endoftext|>\n",
      "The grand of a beehive is pretty popular in the neighborhood. <|endoftext|>\n",
      "The video was taken the day before the game started. <|endoftext|>\n",
      "The dozen ancillary functions on our plate were just icing on the cake. <|endoftext|>\n",
      "The big difference in this wo wo n't be attending another church again., the rental contractor. <|endoftext|>\n",
      "Theactus brothers were well known in one way or another. <|endoftext|>\n",
      "The best chinatown tversusatown! <|endoftext|>\n",
      "The train stopped pretty quick, no violence whatsoever. The most important thing to remember is no food or drink! <|endoftext|>\n",
      "The bizarre scaring off of the elderly crew gave me some insight into my life and my everyday walk? <|endoftext|>\n",
      "The mistake they are making is to compare the food cooked on a par with what the chef says... gross. <|endoftext|>\n",
      "The has never had a brisket version. <|endoftext|>\n",
      "The donor caboodle is so delicious! <|endoftext|>\n",
      "The floor is clean and the men are upbeat. <|endoftext|>\n",
      "The stylist was very understanding. She had a strong understanding of this and was also really great in learning one area of makeup. <|endoftext|>\n",
      "The W hen it shows fear, it is too scary for anyone to handle it. When i walked into this location it was so scary. <|endoftext|>\n",
      "The canal led to the pedestrian reading area. <|endoftext|>\n",
      "The location is nice and open and the food is always positive. <|endoftext|>\n",
      "The ball will begin to rub right off your hair and any reaction. Once he finally gets it finished he goes outside and begins blowing me down. <|endoftext|>\n",
      "The pairs estimate this is the best pair out in town. <|endoftext|>\n",
      "The people here are oftentimes amazing for bringing delicious food back. <|endoftext|>\n",
      "The particular steak tasted like chicken. <|endoftext|>\n",
      "The were dairy masked and stood out in the late afternoon. <|endoftext|>\n",
      "The the neighborhood bar looked like the ceil off the strip. jeez, they looked worse. <|endoftext|>\n",
      "\n"
     ]
    }
   ],
   "source": [
    "random.seed(1)\n",
    "for _ in trange(30):\n",
    "    print(sample_sentence_from(gpt, tokenizer, \"The\", stop_after_dot=False))"
   ]
  },
  {
   "cell_type": "code",
   "execution_count": 279,
   "metadata": {},
   "outputs": [
    {
     "name": "stderr",
     "output_type": "stream",
     "text": [
      "Some weights of GPT2LMHeadModel were not initialized from the model checkpoint at gpt2 and are newly initialized: ['h.0.attn.masked_bias', 'h.1.attn.masked_bias', 'h.2.attn.masked_bias', 'h.3.attn.masked_bias', 'h.4.attn.masked_bias', 'h.5.attn.masked_bias', 'h.6.attn.masked_bias', 'h.7.attn.masked_bias', 'h.8.attn.masked_bias', 'h.9.attn.masked_bias', 'h.10.attn.masked_bias', 'h.11.attn.masked_bias', 'lm_head.weight']\n",
      "You should probably TRAIN this model on a down-stream task to be able to use it for predictions and inference.\n"
     ]
    }
   ],
   "source": [
    "gpt_original = GPT2LMHeadModel.from_pretrained('gpt2').eval()"
   ]
  },
  {
   "cell_type": "markdown",
   "metadata": {},
   "source": [
    "Sentences are quite good. Note however, that GPT2 sometimes generates sentences that are long and contain new line characters. This is because of the influence of how is was trained. For example, it generated: \n",
    "```\n",
    "The other definition was that they disassembled some of the nail pieces.\n",
    "\n",
    "\n",
    "in 1993 i was a regular nail technician and she is on my family. <|endoftext|>\n",
    "```\n",
    "This piece contains two new line characters and two sentences. There are other similar examples. random.seed(1)"
   ]
  },
  {
   "cell_type": "markdown",
   "metadata": {},
   "source": [
    "## Orignal GPT2 comparison\n",
    "To see that our pretraining achieved something, we compare sentence generation with original GPT2, to see that the content is different. It is indeed the case, our generated texts contain a lot of opinions about food and restaurants."
   ]
  },
  {
   "cell_type": "code",
   "execution_count": 282,
   "metadata": {},
   "outputs": [
    {
     "name": "stdout",
     "output_type": "stream",
     "text": [
      "The 3 points are going the way of 3 seed LaHaye because you both tripped my boy,\" Tyareth July 31.\n",
      "The Argentinian deli manager Pedro Montesario said the new places would not be opened.\n",
      "The offer follows much of the increased interest in DIY students, capitalizing on an emerging interest in cognitive imaging.\n",
      "The Office of Civil Rights referred residents to the PreventED Persons and Mumia Abu Hamza Civil Justice Director.\n",
      "The amassed stockholders then discovered that their control of life did not rest with those who were simply sitting in the New York Stock Exchange, those named Cecil Benjamin Bamber.\n",
      "The Holodomorces of the Pale Institute (Mira Turchinson Oslo) contains twelve unique animals that pose the greatest challenge to dinosaurs, and while the secret to their longevity begins to be understood, it is as a nation's survival skills that will determine whether they will be extinct or get lost\n",
      "The center's most popular weapons of choice are metal pipes that score lower on Canberra's notoriously unreliable wholly-amateur class of shotguns, which accoutrements 96% of the civilian number, as well as the suppressors sold on the market.\n",
      "The next three blocks lie between the river and Canterbury River which lie between Monkstown and Lismore, from where the LP uses the line to come down to Goodam Admiralty.\n",
      "The of Gerry led nothing short of epic humiliation when 18/20 victory danced around what little work historians had done in Lannister history.\n",
      "The 47 the Bacon on this electric with a Japanese local to use as an app-driver are incompatibly cute and very feminine.\n"
     ]
    }
   ],
   "source": [
    "for _ in range(10):\n",
    "    print(sample_sentence_from(gpt_original, tokenizer, \"The\", stop_after_dot=True))"
   ]
  },
  {
   "cell_type": "markdown",
   "metadata": {},
   "source": [
    "## Adding special tokens to Tokenizer"
   ]
  },
  {
   "cell_type": "code",
   "execution_count": 306,
   "metadata": {},
   "outputs": [
    {
     "data": {
      "text/plain": [
       "['<', 'POS', '>', ' I', ' love', ' it', ' ', '<|endoftext|>']"
      ]
     },
     "execution_count": 306,
     "metadata": {},
     "output_type": "execute_result"
    }
   ],
   "source": [
    "sentence = \"<POS> I love it <|endoftext|>\"\n",
    "encoding = tokenizer(sentence)[\"input_ids\"]\n",
    "[tokenizer.decode(t) for t in encoding]"
   ]
  },
  {
   "cell_type": "code",
   "execution_count": 308,
   "metadata": {},
   "outputs": [
    {
     "data": {
      "text/plain": [
       "2"
      ]
     },
     "execution_count": 308,
     "metadata": {},
     "output_type": "execute_result"
    }
   ],
   "source": [
    "tokenizer.add_tokens([\"<|positive|>\", \"<|negative|>\"])"
   ]
  },
  {
   "cell_type": "code",
   "execution_count": 310,
   "metadata": {},
   "outputs": [
    {
     "data": {
      "text/plain": [
       "['<|positive|>', 'I', ' love', ' it', ' ', '<|endoftext|>']"
      ]
     },
     "execution_count": 310,
     "metadata": {},
     "output_type": "execute_result"
    }
   ],
   "source": [
    "sentence = \"<|positive|> I love it <|endoftext|>\"\n",
    "encoding = tokenizer(sentence)[\"input_ids\"]\n",
    "[tokenizer.decode(t) for t in encoding]"
   ]
  },
  {
   "cell_type": "code",
   "execution_count": 311,
   "metadata": {},
   "outputs": [
    {
     "data": {
      "text/plain": [
       "['<|negative|>', 'I', ' love', ' it', ' ', '<|endoftext|>']"
      ]
     },
     "execution_count": 311,
     "metadata": {},
     "output_type": "execute_result"
    }
   ],
   "source": [
    "sentence = \"<|negative|> I love it <|endoftext|>\"\n",
    "encoding = tokenizer(sentence)[\"input_ids\"]\n",
    "[tokenizer.decode(t) for t in encoding]"
   ]
  }
 ],
 "metadata": {
  "kernelspec": {
   "display_name": "Python 3",
   "language": "python",
   "name": "python3"
  },
  "language_info": {
   "codemirror_mode": {
    "name": "ipython",
    "version": 3
   },
   "file_extension": ".py",
   "mimetype": "text/x-python",
   "name": "python",
   "nbconvert_exporter": "python",
   "pygments_lexer": "ipython3",
   "version": "3.6.9"
  }
 },
 "nbformat": 4,
 "nbformat_minor": 4
}
