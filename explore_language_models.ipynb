{
 "cells": [
  {
   "cell_type": "markdown",
   "metadata": {},
   "source": [
    "# How good are language models we use for Style Transfer?"
   ]
  },
  {
   "cell_type": "markdown",
   "metadata": {},
   "source": [
    "Let's load pretrained language models on sentiment data. We will test both yelp and sentiment treebank language models. "
   ]
  },
  {
   "cell_type": "code",
   "execution_count": 20,
   "metadata": {},
   "outputs": [],
   "source": [
    "import os\n",
    "import random\n",
    "import sys\n",
    "\n",
    "import matplotlib.pyplot as plt\n",
    "import numpy as np\n",
    "import pandas as pd\n",
    "import seaborn as sns\n",
    "import tensorflow as tf\n",
    "import torch\n",
    "import torch.nn as nn\n",
    "from tqdm.auto import tqdm\n",
    "\n",
    "plt.style.use('fivethirtyeight')"
   ]
  },
  {
   "cell_type": "code",
   "execution_count": 22,
   "metadata": {},
   "outputs": [],
   "source": [
    "from style_transfer import Tokenizer, get_dataset, translate\n",
    "sys.path.append('../deep-latent-sequence-model/src')\n",
    "from lm_lstm import LSTM_LM\n",
    "\n",
    "device = torch.device('cpu')\n",
    "model_dir = '../deep-latent-sequence-model/pretrained_lm/sentiment_style0'\n",
    "model_path = os.path.join(model_dir, 'model.pt')\n",
    "model = torch.load(model_path).eval().to(device)\n",
    "\n",
    "vocab_path = 'data/sentiment/text.vocab'\n",
    "with open(vocab_path) as f:\n",
    "    vocab = [word.strip() for word in f.readlines()]\n",
    "tokenizer = Tokenizer(vocab)"
   ]
  },
  {
   "cell_type": "code",
   "execution_count": 23,
   "metadata": {},
   "outputs": [
    {
     "data": {
      "text/plain": [
       "LSTM_LM(\n",
       "  (embed): Embedding(9365, 128, padding_idx=0)\n",
       "  (dropout_in): Dropout(p=0.3, inplace=False)\n",
       "  (dropout_out): Dropout(p=0.3, inplace=False)\n",
       "  (lstm): LSTM(128, 512, batch_first=True)\n",
       "  (pred_linear): Linear(in_features=512, out_features=9365, bias=True)\n",
       "  (loss): CrossEntropyLoss()\n",
       ")"
      ]
     },
     "execution_count": 23,
     "metadata": {},
     "output_type": "execute_result"
    }
   ],
   "source": [
    "model"
   ]
  },
  {
   "cell_type": "markdown",
   "metadata": {},
   "source": [
    "## Predicting next word given a sequence of words "
   ]
  },
  {
   "cell_type": "code",
   "execution_count": 24,
   "metadata": {},
   "outputs": [
    {
     "name": "stdout",
     "output_type": "stream",
     "text": [
      "tensor([-2.8521], grad_fn=<NegBackward>)\n"
     ]
    },
    {
     "data": {
      "text/plain": [
       "torch.Size([9365])"
      ]
     },
     "execution_count": 24,
     "metadata": {},
     "output_type": "execute_result"
    }
   ],
   "source": [
    "x = torch.tensor([[1, 2, 3]])\n",
    "x_len = torch.tensor([3])\n",
    "print(model.log_probability(x, x_len))\n",
    "logits = model.decode(x, x_len)  # (batch_size, seq_len, vocab_size)\n",
    "output_logits = logits[0, -1, :]\n",
    "output_logits.shape"
   ]
  },
  {
   "cell_type": "code",
   "execution_count": 25,
   "metadata": {},
   "outputs": [
    {
     "data": {
      "text/plain": [
       "tensor(40, grad_fn=<NotImplemented>)"
      ]
     },
     "execution_count": 25,
     "metadata": {},
     "output_type": "execute_result"
    }
   ],
   "source": [
    "predicted_words = output_logits.argmax()\n",
    "predicted_words"
   ]
  },
  {
   "cell_type": "code",
   "execution_count": 26,
   "metadata": {},
   "outputs": [
    {
     "data": {
      "text/plain": [
       "'ricky'"
      ]
     },
     "execution_count": 26,
     "metadata": {},
     "output_type": "execute_result"
    }
   ],
   "source": [
    "tokenizer.decode(6904)"
   ]
  },
  {
   "cell_type": "markdown",
   "metadata": {},
   "source": [
    "## Deterministic sequence generation given initial word"
   ]
  },
  {
   "cell_type": "code",
   "execution_count": 7,
   "metadata": {},
   "outputs": [
    {
     "data": {
      "text/plain": [
       "[4091]"
      ]
     },
     "execution_count": 7,
     "metadata": {},
     "output_type": "execute_result"
    }
   ],
   "source": [
    "tokenizer.tokenize('i')"
   ]
  },
  {
   "cell_type": "markdown",
   "metadata": {},
   "source": [
    "Single next word to see if this works."
   ]
  },
  {
   "cell_type": "code",
   "execution_count": 8,
   "metadata": {},
   "outputs": [
    {
     "data": {
      "text/plain": [
       "(3297, 'food')"
      ]
     },
     "execution_count": 8,
     "metadata": {},
     "output_type": "execute_result"
    }
   ],
   "source": [
    "words = [\"The\"]\n",
    "tokens = [tokenizer.tokenize(word)[0] for word in words]\n",
    "x = torch.tensor([tokens])\n",
    "x_len = [len(tokens)]\n",
    "next_word_logits = model.decode(x, x_len)[0, -1, :]\n",
    "predicted_token = next_word_logits.argmax().item()\n",
    "predicted_token, tokenizer.decode(predicted_token)"
   ]
  },
  {
   "cell_type": "markdown",
   "metadata": {},
   "source": [
    "Generating sequence of words."
   ]
  },
  {
   "cell_type": "code",
   "execution_count": 9,
   "metadata": {},
   "outputs": [
    {
     "data": {
      "text/plain": [
       "'The food was great .'"
      ]
     },
     "execution_count": 9,
     "metadata": {},
     "output_type": "execute_result"
    }
   ],
   "source": [
    "words = [\"The\"]\n",
    "tokens = [tokenizer.tokenize(word)[0] for word in words]\n",
    "i = 0\n",
    "while words[-1] != '<num>' and words[-1] != '<unk>' and words[-1] != '.':\n",
    "    x = torch.tensor([tokens])\n",
    "    x_len = [len(tokens)]\n",
    "    next_word_logits = model.decode(x, x_len)[0, -1, :]\n",
    "    predicted_token = next_word_logits.argmax().item()\n",
    "    tokens.append(predicted_token)\n",
    "    words.append(tokenizer.decode(predicted_token))\n",
    "' '.join(words)"
   ]
  },
  {
   "cell_type": "code",
   "execution_count": 10,
   "metadata": {},
   "outputs": [],
   "source": [
    "def generate_sequence_from(words):\n",
    "    tokens = [tokenizer.tokenize(word)[0] for word in words]\n",
    "    i = 0\n",
    "    while words[-1] != '.':\n",
    "        i += 1\n",
    "        if i > 15:\n",
    "            break\n",
    "        x = torch.tensor([tokens])\n",
    "        x_len = [len(tokens)]\n",
    "        next_word_logits = model.decode(x, x_len)[0, -1, :]\n",
    "        predicted_token = next_word_logits.argmax().item()\n",
    "        tokens.append(predicted_token)\n",
    "        words.append(tokenizer.decode(predicted_token))\n",
    "    return ' '.join(words)"
   ]
  },
  {
   "cell_type": "code",
   "execution_count": 11,
   "metadata": {},
   "outputs": [
    {
     "name": "stdout",
     "output_type": "stream",
     "text": [
      "The food was great .\n",
      "The place food was great .\n",
      "I was very disappointed .\n",
      "We had a great time .\n",
      "What i got was a great experience .\n",
      "Well .\n",
      "Do n't go there .\n",
      "Hmm .\n",
      "Possibly the best in town .\n",
      "Not a good sign .\n",
      "I would was very disappointed .\n",
      "The restaurant food was great .\n"
     ]
    }
   ],
   "source": [
    "print(generate_sequence_from([\"The\"]))\n",
    "print(generate_sequence_from([\"The place\"]))\n",
    "print(generate_sequence_from([\"I\"]))\n",
    "print(generate_sequence_from([\"We\"]))\n",
    "print(generate_sequence_from([\"What\"]))\n",
    "print(generate_sequence_from([\"Well\"]))\n",
    "print(generate_sequence_from([\"Do\"]))\n",
    "print(generate_sequence_from([\"Hmm\"]))\n",
    "print(generate_sequence_from([\"Possibly\"]))\n",
    "print(generate_sequence_from([\"Not\"]))\n",
    "print(generate_sequence_from([\"I would\"]))\n",
    "print(generate_sequence_from([\"The restaurant\"]))"
   ]
  },
  {
   "cell_type": "markdown",
   "metadata": {},
   "source": [
    "The language model we trained is not of the best quality unfortunately. If language model doesn't work well, we can't really expect final style transfer model to work well, since it is a prior in our model.\n",
    "\n",
    "I think it is crucial to have good language model. Maybe Bert with WordPiece tokenization will improve things."
   ]
  },
  {
   "cell_type": "markdown",
   "metadata": {},
   "source": [
    "## Random sampling of words with logits probability"
   ]
  },
  {
   "cell_type": "code",
   "execution_count": 12,
   "metadata": {},
   "outputs": [
    {
     "data": {
      "text/plain": [
       "(6983, 'rooftop')"
      ]
     },
     "execution_count": 12,
     "metadata": {},
     "output_type": "execute_result"
    }
   ],
   "source": [
    "words = [\"The\"]\n",
    "tokens = [tokenizer.tokenize(word)[0] for word in words]\n",
    "x = torch.tensor([tokens])\n",
    "x_len = [len(tokens)]\n",
    "next_word_logits = model.decode(x, x_len)[0, -1, :]\n",
    "predicted_token = random.choices(np.arange(len(next_word_logits)), weights=next_word_logits.softmax(0))[0]\n",
    "predicted_token, tokenizer.decode(predicted_token)"
   ]
  },
  {
   "cell_type": "markdown",
   "metadata": {},
   "source": [
    "The most probable words after 'the'."
   ]
  },
  {
   "cell_type": "code",
   "execution_count": 13,
   "metadata": {},
   "outputs": [
    {
     "data": {
      "text/plain": [
       "[('food', 0.07363897),\n",
       " ('best', 0.03956124),\n",
       " ('service', 0.038740963),\n",
       " ('place', 0.02569076),\n",
       " ('staff', 0.021668633),\n",
       " ('other', 0.013282112),\n",
       " ('first', 0.012337483),\n",
       " ('restaurant', 0.010821961),\n",
       " ('price', 0.010469027),\n",
       " ('next', 0.010369063),\n",
       " ('whole', 0.009594001),\n",
       " ('worst', 0.009499044),\n",
       " ('most', 0.0091636125),\n",
       " ('same', 0.008161825),\n",
       " ('owner', 0.007962195)]"
      ]
     },
     "execution_count": 13,
     "metadata": {},
     "output_type": "execute_result"
    }
   ],
   "source": [
    "def most_probable(next_word_logits, k=10):\n",
    "    word_probs = list(zip(vocab, next_word_logits.softmax(0).detach().numpy()))\n",
    "    return sorted(word_probs, key=lambda t: t[1], reverse=True)[:k]\n",
    "most_probable(next_word_logits, k=15)"
   ]
  },
  {
   "cell_type": "code",
   "execution_count": 14,
   "metadata": {},
   "outputs": [
    {
     "data": {
      "image/png": "[encoded data removed]",
      "text/plain": [
       "<Figure size 432x288 with 1 Axes>"
      ]
     },
     "metadata": {},
     "output_type": "display_data"
    }
   ],
   "source": [
    "probs = next_word_logits.softmax(0).detach().numpy()\n",
    "sorted_word_probs = sorted(probs, reverse=True)\n",
    "plt.plot(sorted_word_probs[:100])\n",
    "plt.title('Probabilities of top words');"
   ]
  },
  {
   "cell_type": "code",
   "execution_count": 15,
   "metadata": {},
   "outputs": [
    {
     "data": {
      "text/plain": [
       "[0]"
      ]
     },
     "execution_count": 15,
     "metadata": {},
     "output_type": "execute_result"
    }
   ],
   "source": [
    "tokenizer.tokenize('<pad>')"
   ]
  },
  {
   "cell_type": "code",
   "execution_count": 16,
   "metadata": {},
   "outputs": [
    {
     "data": {
      "text/plain": [
       "('<pad>', '<unk>')"
      ]
     },
     "execution_count": 16,
     "metadata": {},
     "output_type": "execute_result"
    }
   ],
   "source": [
    "tokenizer.decode(0), tokenizer.decode(1)"
   ]
  },
  {
   "cell_type": "markdown",
   "metadata": {},
   "source": [
    "I just realized, that in my vocab I forgot to put \\<pad\\> and \\<unk\\> tokens! This means that my models might not work properly, and this can be the reason for poor performance of my style transfer experiments.\n",
    "\n",
    "EDIT: solved now"
   ]
  },
  {
   "cell_type": "code",
   "execution_count": 19,
   "metadata": {},
   "outputs": [
    {
     "name": "stdout",
     "output_type": "stream",
     "text": [
      "The cake was quite filling .\n",
      "The lady that work here ! # _num_ is _num_ .\n",
      "The restaurant called until today ! # _num_ was horrible .\n",
      "The hummus ( by far ) .\n",
      "The drive-thru .\n",
      "The latter .\n",
      "The ambiance the other option .\n",
      "The worst service and food i have experienced .\n",
      "The side of ingredients has really improved .\n",
      "The other .\n",
      "The enormous selection for breakfast .\n",
      "The quality of the food .\n",
      "The serious manager .\n",
      "The manager 's .\n",
      "The quality was not good .\n",
      "The menu wins nothing like this .\n",
      "The moment you walk in .\n",
      "The nicest too ! # _num_ the ribs were last night .\n",
      "The bathroom was n't clean .\n",
      "The manager came home and rushed away .\n",
      "The area and enjoy the staff .\n",
      "The service was fairly slow .\n",
      "The best ! # _num_ .\n",
      "The bill is as a buffet .\n",
      "The coaches are rude .\n",
      "The food is absolutely delicious .\n",
      "The croissants .\n",
      "The tea is awesome .\n",
      "The service , although i was disappointed .\n",
      "The price is faster to prepare .\n"
     ]
    }
   ],
   "source": [
    "random.seed(1)\n",
    "def generate_random_sequence_from(words):\n",
    "    tokens = [tokenizer.tokenize(word)[0] for word in words]\n",
    "    while words[-1] != '.' and words[-1] != '<pad>':\n",
    "        x = torch.tensor([tokens])\n",
    "        x_len = [len(tokens)]\n",
    "        next_word_logits = model.decode(x, x_len)[0, -1, :]\n",
    "        predicted_token = random.choices(np.arange(len(next_word_logits)), weights=next_word_logits.softmax(0))[0]\n",
    "        tokens.append(predicted_token)\n",
    "        words.append(tokenizer.decode(predicted_token))\n",
    "    return ' '.join(words)\n",
    "for _ in range(30):\n",
    "    print(generate_random_sequence_from([\"The\"]))"
   ]
  },
  {
   "cell_type": "markdown",
   "metadata": {},
   "source": [
    "Interesting fact: when you use a token that never occurs, the RNN can predict it as a possible output. In fact it does it quite often. When unknown token is put into the model, the model doesn't know what to do, the logits can become big since the embedding of the unknown token wasn't optimized at all.\n",
    "\n",
    "EDIT: Solved\n",
    "\n",
    "After using _num_ token to replace every number, it is predicted way too often (\"The room so we bought it ! # \\_num\\_ ! # \\_num\\_ i enjoyed one other ! # \\_num\\_ a \\_num\\_ wheel .\", \"The dog and ray 's are always great ! # \\_num\\_ ! # \\_num\\_ .\". \n",
    "\n",
    "EDIT: solved, I do not use \\_num\\_ token that often now (I replace words consisting of only digits and dots/commas with \\_num\\_). I have to be careful not to replace dots with \\_num\\_. "
   ]
  }
 ],
 "metadata": {
  "kernelspec": {
   "display_name": "Python 3",
   "language": "python",
   "name": "python3"
  },
  "language_info": {
   "codemirror_mode": {
    "name": "ipython",
    "version": 3
   },
   "file_extension": ".py",
   "mimetype": "text/x-python",
   "name": "python",
   "nbconvert_exporter": "python",
   "pygments_lexer": "ipython3",
   "version": "3.6.9"
  }
 },
 "nbformat": 4,
 "nbformat_minor": 4
}
