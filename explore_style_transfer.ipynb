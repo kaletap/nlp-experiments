{
 "cells": [
  {
   "cell_type": "markdown",
   "metadata": {},
   "source": [
    "# Style transfer exploration"
   ]
  },
  {
   "cell_type": "code",
   "execution_count": 5,
   "metadata": {},
   "outputs": [],
   "source": [
    "import os\n",
    "import sys\n",
    "\n",
    "import matplotlib.pyplot as plt\n",
    "import numpy as np\n",
    "import pandas as pd\n",
    "import torch\n",
    "import torch.nn as nn\n",
    "\n",
    "sys.path.append('../deep-latent-sequence-model/src')"
   ]
  },
  {
   "cell_type": "code",
   "execution_count": 6,
   "metadata": {},
   "outputs": [
    {
     "name": "stderr",
     "output_type": "stream",
     "text": [
      "/home/przemyslaw/.local/lib/python3.6/site-packages/torch/serialization.py:657: SourceChangeWarning: source code of class 'torch.nn.modules.rnn.LSTM' has changed. you can retrieve the original source code by accessing the object's source attribute or set `torch.nn.Module.dump_patches = True` and use the patch tool to revert the changes.\n",
      "  warnings.warn(msg, SourceChangeWarning)\n",
      "/home/przemyslaw/.local/lib/python3.6/site-packages/torch/serialization.py:657: SourceChangeWarning: source code of class 'torch.nn.modules.linear.Linear' has changed. you can retrieve the original source code by accessing the object's source attribute or set `torch.nn.Module.dump_patches = True` and use the patch tool to revert the changes.\n",
      "  warnings.warn(msg, SourceChangeWarning)\n",
      "/home/przemyslaw/.local/lib/python3.6/site-packages/torch/serialization.py:657: SourceChangeWarning: source code of class 'torch.nn.modules.loss.CrossEntropyLoss' has changed. you can retrieve the original source code by accessing the object's source attribute or set `torch.nn.Module.dump_patches = True` and use the patch tool to revert the changes.\n",
      "  warnings.warn(msg, SourceChangeWarning)\n",
      "/home/przemyslaw/.local/lib/python3.6/site-packages/torch/serialization.py:657: SourceChangeWarning: source code of class 'torch.nn.modules.container.ModuleList' has changed. you can retrieve the original source code by accessing the object's source attribute or set `torch.nn.Module.dump_patches = True` and use the patch tool to revert the changes.\n",
      "  warnings.warn(msg, SourceChangeWarning)\n"
     ]
    }
   ],
   "source": [
    "model_path = '../deep-latent-sequence-model/outputs_yelp/yelp_wd0.0_wb0.0_ws0.0_an3_pool5_klw0.1_lr0.001_t0.01_lm_bt_hard_avglen/model.pt'\n",
    "model = torch.load(model_path)"
   ]
  },
  {
   "cell_type": "code",
   "execution_count": 7,
   "metadata": {},
   "outputs": [
    {
     "data": {
      "text/plain": [
       "Seq2Seq(\n",
       "  (encoder): Encoder(\n",
       "    (word_emb): Embedding(9653, 128, padding_idx=0)\n",
       "    (layer): LSTM(128, 512, batch_first=True, dropout=0.3, bidirectional=True)\n",
       "    (bridge): Linear(in_features=1024, out_features=512, bias=False)\n",
       "    (dropout): Dropout(p=0.3, inplace=False)\n",
       "  )\n",
       "  (decoder): Decoder(\n",
       "    (attention): MlpAttn(\n",
       "      (dropout): Dropout(p=0.3, inplace=False)\n",
       "      (w_trg): Linear(in_features=512, out_features=512, bias=True)\n",
       "      (w_att): Linear(in_features=512, out_features=1, bias=True)\n",
       "    )\n",
       "    (ctx_to_readout): Linear(in_features=1536, out_features=512, bias=False)\n",
       "    (readout): Linear(in_features=512, out_features=9653, bias=False)\n",
       "    (word_emb): Embedding(9653, 128, padding_idx=0)\n",
       "    (attr_emb): Embedding(2, 128, padding_idx=0)\n",
       "    (layer): LSTMCell(1152, 512)\n",
       "    (dropout): Dropout(p=0.3, inplace=False)\n",
       "  )\n",
       "  (enc_to_k): Linear(in_features=1024, out_features=512, bias=False)\n",
       "  (noise): NoiseLayer()\n",
       "  (LM0): LSTM_LM(\n",
       "    (embed): Embedding(9653, 128, padding_idx=0)\n",
       "    (dropout_in): Dropout(p=0.3, inplace=False)\n",
       "    (dropout_out): Dropout(p=0.3, inplace=False)\n",
       "    (lstm): LSTM(128, 512, batch_first=True)\n",
       "    (pred_linear): Linear(in_features=512, out_features=9653, bias=True)\n",
       "    (loss): CrossEntropyLoss()\n",
       "  )\n",
       "  (LM1): LSTM_LM(\n",
       "    (embed): Embedding(9653, 128, padding_idx=0)\n",
       "    (dropout_in): Dropout(p=0.3, inplace=False)\n",
       "    (dropout_out): Dropout(p=0.3, inplace=False)\n",
       "    (lstm): LSTM(128, 512, batch_first=True)\n",
       "    (pred_linear): Linear(in_features=512, out_features=9653, bias=True)\n",
       "    (loss): CrossEntropyLoss()\n",
       "  )\n",
       "  (LM): ModuleList(\n",
       "    (0): LSTM_LM(\n",
       "      (embed): Embedding(9653, 128, padding_idx=0)\n",
       "      (dropout_in): Dropout(p=0.3, inplace=False)\n",
       "      (dropout_out): Dropout(p=0.3, inplace=False)\n",
       "      (lstm): LSTM(128, 512, batch_first=True)\n",
       "      (pred_linear): Linear(in_features=512, out_features=9653, bias=True)\n",
       "      (loss): CrossEntropyLoss()\n",
       "    )\n",
       "    (1): LSTM_LM(\n",
       "      (embed): Embedding(9653, 128, padding_idx=0)\n",
       "      (dropout_in): Dropout(p=0.3, inplace=False)\n",
       "      (dropout_out): Dropout(p=0.3, inplace=False)\n",
       "      (lstm): LSTM(128, 512, batch_first=True)\n",
       "      (pred_linear): Linear(in_features=512, out_features=9653, bias=True)\n",
       "      (loss): CrossEntropyLoss()\n",
       "    )\n",
       "  )\n",
       ")"
      ]
     },
     "execution_count": 7,
     "metadata": {},
     "output_type": "execute_result"
    }
   ],
   "source": [
    "model"
   ]
  },
  {
   "cell_type": "markdown",
   "metadata": {},
   "source": [
    "This is a model we use for style transfer. It is encoder-decoder architecture."
   ]
  },
  {
   "cell_type": "code",
   "execution_count": 21,
   "metadata": {},
   "outputs": [],
   "source": [
    "def to_device(*args):\n",
    "    device = torch.device('cuda')\n",
    "    return [x.to(device) for x in args]"
   ]
  },
  {
   "cell_type": "code",
   "execution_count": 40,
   "metadata": {},
   "outputs": [],
   "source": [
    "x = torch.tensor([[1, 2, 3]])\n",
    "x_mask = torch.ones_like(x)\n",
    "x_len = torch.tensor([1])\n",
    "x, x_mask, x_len = to_device(x, x_mask, x_len)\n",
    "x_pos_emb_idxs = None\n",
    "y = x\n",
    "y_mask = x_mask\n",
    "y_len = x_len\n",
    "y_pos_emb_idxs = None\n",
    "\n",
    "x, x_mask, x_len = to_device(x, x_mask, x_len)"
   ]
  },
  {
   "cell_type": "code",
   "execution_count": 41,
   "metadata": {},
   "outputs": [],
   "source": [
    "result = model(x, x_mask, x_len, x_pos_emb_idxs, y, y_mask, y_len, y_pos_emb_idxs, y, y_mask, y_len, y_pos_emb_idxs)"
   ]
  },
  {
   "cell_type": "markdown",
   "metadata": {},
   "source": [
    "result: trans_logits, noise_logits, KL_loss, lm_length, trans_length"
   ]
  },
  {
   "cell_type": "code",
   "execution_count": 42,
   "metadata": {},
   "outputs": [
    {
     "data": {
      "text/plain": [
       "(tensor([[[3.6791, 3.0742, 3.2360,  ..., 3.0484, 2.1171, 3.4404],\n",
       "          [1.1189, 1.1896, 0.6639,  ..., 1.6553, 0.5154, 0.7072]]],\n",
       "        device='cuda:0', grad_fn=<TransposeBackward0>),\n",
       " None,\n",
       " tensor([[1.8127, 1.5167, 1.2207]], device='cuda:0', grad_fn=<DivBackward0>),\n",
       " 5,\n",
       " 4)"
      ]
     },
     "execution_count": 42,
     "metadata": {},
     "output_type": "execute_result"
    }
   ],
   "source": [
    "result"
   ]
  },
  {
   "cell_type": "code",
   "execution_count": 43,
   "metadata": {},
   "outputs": [
    {
     "data": {
      "text/plain": [
       "torch.Size([1, 2, 9653])"
      ]
     },
     "execution_count": 43,
     "metadata": {},
     "output_type": "execute_result"
    }
   ],
   "source": [
    "result[0].shape"
   ]
  },
  {
   "cell_type": "code",
   "execution_count": 45,
   "metadata": {},
   "outputs": [
    {
     "data": {
      "text/plain": [
       "(tensor([[1.8127, 1.5167, 1.2207]], device='cuda:0', grad_fn=<DivBackward0>),\n",
       " torch.Size([1, 3]))"
      ]
     },
     "execution_count": 45,
     "metadata": {},
     "output_type": "execute_result"
    }
   ],
   "source": [
    "result[2], result[2].shape"
   ]
  }
 ],
 "metadata": {
  "kernelspec": {
   "display_name": "Python 3",
   "language": "python",
   "name": "python3"
  },
  "language_info": {
   "codemirror_mode": {
    "name": "ipython",
    "version": 3
   },
   "file_extension": ".py",
   "mimetype": "text/x-python",
   "name": "python",
   "nbconvert_exporter": "python",
   "pygments_lexer": "ipython3",
   "version": "3.6.9"
  }
 },
 "nbformat": 4,
 "nbformat_minor": 4
}
