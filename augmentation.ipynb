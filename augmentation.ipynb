{
 "cells": [
  {
   "cell_type": "markdown",
   "metadata": {},
   "source": [
    "# Data Augmentation using Unsupervised Style Transfer "
   ]
  },
  {
   "cell_type": "code",
   "execution_count": 1,
   "metadata": {},
   "outputs": [],
   "source": [
    "import itertools\n",
    "import os\n",
    "import sys\n",
    "from typing import Dict, List, Union\n",
    "\n",
    "import matplotlib.pyplot as plt\n",
    "import numpy as np\n",
    "import pandas as pd\n",
    "import tensorflow as tf\n",
    "import torch\n",
    "import torch.nn as nn"
   ]
  },
  {
   "cell_type": "code",
   "execution_count": 114,
   "metadata": {},
   "outputs": [],
   "source": [
    "from style_transfer import Tokenizer, get_dataset, translate\n",
    "sys.path.append('../deep-latent-sequence-model/src')\n",
    "from data_utils import DataUtil\n",
    "from utils import reorder\n",
    "os.chdir('/home/przemyslaw/text-style-transfer/deep-latent-sequence-model')\n",
    "\n",
    "model_dir = '../deep-latent-sequence-model/outputs_yelp_/yelp_wd0.0_wb0.0_ws0.0_an3_pool5_klw0.1_lr0.001_t0.01_lm_bt_hard_avglen'\n",
    "model_path = os.path.join(model_dir, 'model.pt')\n",
    "model = torch.load(model_path).eval()\n",
    "\n",
    "tokenizer = Tokenizer(model.data.src_i2w)"
   ]
  },
  {
   "cell_type": "code",
   "execution_count": 115,
   "metadata": {},
   "outputs": [
    {
     "name": "stderr",
     "output_type": "stream",
     "text": [
      "/home/przemyslaw/.local/lib/python3.6/site-packages/torch/nn/functional.py:1558: UserWarning: nn.functional.tanh is deprecated. Use torch.tanh instead.\n",
      "  warnings.warn(\"nn.functional.tanh is deprecated. Use torch.tanh instead.\")\n"
     ]
    },
    {
     "data": {
      "text/plain": [
       "['love this place .', 'unbelievable .', 'gross .', 'love it !', 'gross .']"
      ]
     },
     "execution_count": 115,
     "metadata": {},
     "output_type": "execute_result"
    }
   ],
   "source": [
    "texts = ['I hate this place', 'This is very cool', 'I love it', 'I hate it', 'I would definitely do it again']\n",
    "target_styles = [1, 0, 0, 1, 0]\n",
    "translate(model, tokenizer, texts, target_styles)"
   ]
  },
  {
   "cell_type": "markdown",
   "metadata": {},
   "source": [
    "## Loading setiment data from yelp"
   ]
  },
  {
   "cell_type": "code",
   "execution_count": 136,
   "metadata": {},
   "outputs": [
    {
     "name": "stdout",
     "output_type": "stream",
     "text": [
      "(444101, 2)\n"
     ]
    },
    {
     "data": {
      "text/html": [
       "<div>\n",
       "<style scoped>\n",
       "    .dataframe tbody tr th:only-of-type {\n",
       "        vertical-align: middle;\n",
       "    }\n",
       "\n",
       "    .dataframe tbody tr th {\n",
       "        vertical-align: top;\n",
       "    }\n",
       "\n",
       "    .dataframe thead th {\n",
       "        text-align: right;\n",
       "    }\n",
       "</style>\n",
       "<table border=\"1\" class=\"dataframe\">\n",
       "  <thead>\n",
       "    <tr style=\"text-align: right;\">\n",
       "      <th></th>\n",
       "      <th>text</th>\n",
       "      <th>attr</th>\n",
       "    </tr>\n",
       "  </thead>\n",
       "  <tbody>\n",
       "    <tr>\n",
       "      <th>0</th>\n",
       "      <td>i was sadly mistaken .</td>\n",
       "      <td>negative</td>\n",
       "    </tr>\n",
       "    <tr>\n",
       "      <th>1</th>\n",
       "      <td>so on to the hoagies , the italian is general ...</td>\n",
       "      <td>negative</td>\n",
       "    </tr>\n",
       "    <tr>\n",
       "      <th>2</th>\n",
       "      <td>minimal meat and a ton of shredded lettuce .</td>\n",
       "      <td>negative</td>\n",
       "    </tr>\n",
       "    <tr>\n",
       "      <th>3</th>\n",
       "      <td>nothing really special &amp; not worthy of the $ _...</td>\n",
       "      <td>negative</td>\n",
       "    </tr>\n",
       "    <tr>\n",
       "      <th>4</th>\n",
       "      <td>second , the steak hoagie , it is atrocious .</td>\n",
       "      <td>negative</td>\n",
       "    </tr>\n",
       "  </tbody>\n",
       "</table>\n",
       "</div>"
      ],
      "text/plain": [
       "                                                text      attr\n",
       "0                             i was sadly mistaken .  negative\n",
       "1  so on to the hoagies , the italian is general ...  negative\n",
       "2       minimal meat and a ton of shredded lettuce .  negative\n",
       "3  nothing really special & not worthy of the $ _...  negative\n",
       "4      second , the steak hoagie , it is atrocious .  negative"
      ]
     },
     "execution_count": 136,
     "metadata": {},
     "output_type": "execute_result"
    }
   ],
   "source": [
    "np.random.seed(42)\n",
    "\n",
    "yelp_path = '../deep-latent-sequence-model/data/yelp'\n",
    "yelp_train = get_dataset('yelp', 'train')\n",
    "yelp_dev = get_dataset('yelp', 'dev')\n",
    "print(yelp_train.shape)\n",
    "yelp_train.head()"
   ]
  },
  {
   "cell_type": "code",
   "execution_count": 137,
   "metadata": {},
   "outputs": [],
   "source": [
    "target_map = {\n",
    "    'negative': 1,\n",
    "    'positive': 0\n",
    "}\n",
    "\n",
    "label_map = {\n",
    "    'negative': 0,\n",
    "    'positive': 1\n",
    "}"
   ]
  },
  {
   "cell_type": "code",
   "execution_count": 138,
   "metadata": {},
   "outputs": [
    {
     "name": "stderr",
     "output_type": "stream",
     "text": [
      "/home/przemyslaw/.local/lib/python3.6/site-packages/torch/nn/functional.py:1558: UserWarning: nn.functional.tanh is deprecated. Use torch.tanh instead.\n",
      "  warnings.warn(\"nn.functional.tanh is deprecated. Use torch.tanh instead.\")\n"
     ]
    },
    {
     "name": "stdout",
     "output_type": "stream",
     "text": [
      "(negative) first off , the colors were outdated and looked watered down . ---> incredible food !\n",
      "(positive) great spot ! ---> _num_ stars .\n",
      "(negative) i do n't understand why this place is so popular . ---> i love this place and this place is so popular .\n",
      "(positive) great local bar ! ---> big disappointment !\n",
      "(negative) the sink looks like it has n't been wiped down in months . ---> honest !\n",
      "(negative) false advertisement . ---> refreshing .\n",
      "(positive) would recommend any location . ---> would not recommend them .\n",
      "(positive) chicago pizza rocks ! ---> pizza sucks !\n",
      "(positive) especially for a smaller production . ---> annoying .\n",
      "(negative) what level of hell is this dive ? ---> solid !\n",
      "(positive) a great shop , great products , great service . ---> no call .\n",
      "(positive) you can even find rare records here too . ---> shame .\n",
      "(positive) great service , nice road bikes . ---> horrible service .\n",
      "(negative) such a shame . ---> such a gem .\n",
      "(positive) food comes quickly and is always fantastic . ---> comes quickly and is not true .\n",
      "(positive) try it if you love philly cheesesteaks , we were pleasantly surprised . ---> ick .\n",
      "(negative) these are n't good enough for you ? ---> these are good enough for you !\n",
      "(negative) my dining partner 's porterhouse was cold inside . ---> solid pizza .\n",
      "(positive) all enjoyed our meals . ---> ruined our meals .\n",
      "(negative) unfortunately i wo n't be shopping here . ---> i will be shopping here !\n"
     ]
    }
   ],
   "source": [
    "for _, row in yelp_train.sample(20).iterrows():\n",
    "    text, attr = row['text'], row['attr']\n",
    "    translation = translate(model, tokenizer, text, target_map[attr], beam_size=10)[0]\n",
    "    print(f'({attr})', text, '--->', translation)"
   ]
  },
  {
   "cell_type": "markdown",
   "metadata": {},
   "source": [
    "## Training a model\n",
    "Should we use something simple and easy like CNN or rather something more powerful like Bert?\n",
    "\n",
    "* CNN: lightweight, authors of the paper used it, doesn't require special tokenization, probably worse accuracy\n",
    "* Bert: more complicated, requires a lot of GPU memory, requires special tokenizer (different than the one used in style transfer model), better accuracy\n",
    "\n",
    "I choose CNN, for Bert I would probably pretrain style transfer model with different tokenizer, so that transfered sentences make sence and don't have `<unk>` tokens. I will probably do it anyway, but not now. This is supposed to be simple. \n",
    "\n",
    "Should I use keras or torch?\n",
    "* keras: for noobs, easy to use if you don't require a lot of training loop customization\n",
    "* pytorch: more complicated, but you can do a lot with it\n",
    "\n",
    "I choose keras for now, it's very easy to create a simple classifier with it. "
   ]
  },
  {
   "cell_type": "markdown",
   "metadata": {},
   "source": [
    "### Data \n",
    "The only difficulty will be to create dataset to provide as an input. We have to tokenize everything and take care of the padding."
   ]
  },
  {
   "cell_type": "code",
   "execution_count": 139,
   "metadata": {},
   "outputs": [],
   "source": [
    "MAX_LEN = 20"
   ]
  },
  {
   "cell_type": "code",
   "execution_count": 140,
   "metadata": {},
   "outputs": [],
   "source": [
    "x_train = [tokenizer.tokenize(text, padding=MAX_LEN) for text in yelp_train['text'].values]\n",
    "x_train = tf.keras.preprocessing.sequence.pad_sequences(x_train, maxlen=MAX_LEN)\n",
    "y_train = np.array([label_map[attr] for attr in yelp_train['attr'].values])\n",
    "\n",
    "x_dev = [tokenizer.tokenize(text, padding=MAX_LEN) for text in yelp_dev['text'].values]\n",
    "x_dev = tf.keras.preprocessing.sequence.pad_sequences(x_dev, maxlen=MAX_LEN)\n",
    "y_dev = np.array([label_map[attr] for attr in yelp_dev['attr'].values])"
   ]
  },
  {
   "cell_type": "code",
   "execution_count": 141,
   "metadata": {},
   "outputs": [],
   "source": [
    "# Building the CNN Model\n",
    "sentiment_model = tf.keras.Sequential()      # initilaizing the Sequential nature for CNN model\n",
    "sentiment_model.add(tf.keras.layers.Embedding(len(tokenizer), 32, input_length=MAX_LEN))\n",
    "sentiment_model.add(tf.keras.layers.Conv1D(32, 3, padding='same', activation='relu'))\n",
    "# model.add(tf.keras.layers.Dropout(0.5))\n",
    "sentiment_model.add(tf.keras.layers.MaxPooling1D())\n",
    "sentiment_model.add(tf.keras.layers.Flatten())\n",
    "sentiment_model.add(tf.keras.layers.Dense(250, activation='relu'))\n",
    "sentiment_model.add(tf.keras.layers.Dense(1, activation='sigmoid'))"
   ]
  },
  {
   "cell_type": "code",
   "execution_count": 142,
   "metadata": {},
   "outputs": [],
   "source": [
    "sentiment_model.compile(\n",
    "    optimizer=tf.keras.optimizers.Adam(),\n",
    "    loss=tf.keras.losses.BinaryCrossentropy(),\n",
    "    metrics=[\"accuracy\", tf.keras.metrics.AUC(name=\"auc\")]\n",
    ")"
   ]
  },
  {
   "cell_type": "code",
   "execution_count": 143,
   "metadata": {},
   "outputs": [
    {
     "name": "stdout",
     "output_type": "stream",
     "text": [
      "Model: \"sequential_13\"\n",
      "_________________________________________________________________\n",
      "Layer (type)                 Output Shape              Param #   \n",
      "=================================================================\n",
      "embedding_15 (Embedding)     (None, 20, 32)            308896    \n",
      "_________________________________________________________________\n",
      "conv1d_12 (Conv1D)           (None, 20, 32)            3104      \n",
      "_________________________________________________________________\n",
      "max_pooling1d_12 (MaxPooling (None, 10, 32)            0         \n",
      "_________________________________________________________________\n",
      "flatten_12 (Flatten)         (None, 320)               0         \n",
      "_________________________________________________________________\n",
      "dense_24 (Dense)             (None, 250)               80250     \n",
      "_________________________________________________________________\n",
      "dense_25 (Dense)             (None, 1)                 251       \n",
      "=================================================================\n",
      "Total params: 392,501\n",
      "Trainable params: 392,501\n",
      "Non-trainable params: 0\n",
      "_________________________________________________________________\n"
     ]
    },
    {
     "data": {
      "image/png": "[encoded data removed]",
      "text/plain": [
       "<IPython.core.display.Image object>"
      ]
     },
     "execution_count": 143,
     "metadata": {},
     "output_type": "execute_result"
    }
   ],
   "source": [
    "sentiment_model.summary()\n",
    "tf.keras.utils.plot_model(sentiment_model)"
   ]
  },
  {
   "cell_type": "code",
   "execution_count": 144,
   "metadata": {},
   "outputs": [
    {
     "name": "stdout",
     "output_type": "stream",
     "text": [
      "Epoch 1/5\n",
      "6940/6940 [==============================] - 46s 7ms/step - loss: 0.0868 - accuracy: 0.9674 - auc: 0.9946 - val_loss: 0.0653 - val_accuracy: 0.9771 - val_auc: 0.9966\n",
      "Epoch 2/5\n",
      "6940/6940 [==============================] - 47s 7ms/step - loss: 0.0512 - accuracy: 0.9822 - auc: 0.9977 - val_loss: 0.0613 - val_accuracy: 0.9792 - val_auc: 0.9968\n",
      "Epoch 3/5\n",
      "6940/6940 [==============================] - 44s 6ms/step - loss: 0.0389 - accuracy: 0.9868 - auc: 0.9984 - val_loss: 0.0630 - val_accuracy: 0.9792 - val_auc: 0.9965\n",
      "Epoch 4/5\n",
      "6940/6940 [==============================] - 43s 6ms/step - loss: 0.0307 - accuracy: 0.9899 - auc: 0.9988 - val_loss: 0.0678 - val_accuracy: 0.9787 - val_auc: 0.9956\n",
      "Epoch 5/5\n",
      "6940/6940 [==============================] - 47s 7ms/step - loss: 0.0239 - accuracy: 0.9922 - auc: 0.9992 - val_loss: 0.0748 - val_accuracy: 0.9778 - val_auc: 0.9950\n"
     ]
    }
   ],
   "source": [
    "history = sentiment_model.fit(x_train, y_train, validation_data=(x_dev, y_dev), batch_size=64, epochs=5, shuffle=True)"
   ]
  }
 ],
 "metadata": {
  "kernelspec": {
   "display_name": "Python 3",
   "language": "python",
   "name": "python3"
  },
  "language_info": {
   "codemirror_mode": {
    "name": "ipython",
    "version": 3
   },
   "file_extension": ".py",
   "mimetype": "text/x-python",
   "name": "python",
   "nbconvert_exporter": "python",
   "pygments_lexer": "ipython3",
   "version": "3.6.9"
  }
 },
 "nbformat": 4,
 "nbformat_minor": 4
}
