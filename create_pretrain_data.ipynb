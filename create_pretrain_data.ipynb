{
 "cells": [
  {
   "cell_type": "markdown",
   "metadata": {},
   "source": [
    "# Creating pretraining data for Augmentation Model\n",
    "As a next step, we will use GPT to generate sentences for data augmentation.\n",
    "\n",
    "Note: Creating this means that we have to have a significant amount of data already."
   ]
  },
  {
   "cell_type": "code",
   "execution_count": 1,
   "metadata": {},
   "outputs": [],
   "source": [
    "import os\n",
    "import random\n",
    "import sys\n",
    "\n",
    "import numpy as np\n",
    "import pandas as pd\n",
    "from tqdm.auto import tqdm, trange\n",
    "\n",
    "from style_transfer import get_dataset"
   ]
  },
  {
   "cell_type": "code",
   "execution_count": 2,
   "metadata": {},
   "outputs": [
    {
     "name": "stdout",
     "output_type": "stream",
     "text": [
      "444101 63483\n"
     ]
    },
    {
     "data": {
      "text/html": [
       "<div>\n",
       "<style scoped>\n",
       "    .dataframe tbody tr th:only-of-type {\n",
       "        vertical-align: middle;\n",
       "    }\n",
       "\n",
       "    .dataframe tbody tr th {\n",
       "        vertical-align: top;\n",
       "    }\n",
       "\n",
       "    .dataframe thead th {\n",
       "        text-align: right;\n",
       "    }\n",
       "</style>\n",
       "<table border=\"1\" class=\"dataframe\">\n",
       "  <thead>\n",
       "    <tr style=\"text-align: right;\">\n",
       "      <th></th>\n",
       "      <th>text</th>\n",
       "      <th>attr</th>\n",
       "    </tr>\n",
       "  </thead>\n",
       "  <tbody>\n",
       "    <tr>\n",
       "      <th>0</th>\n",
       "      <td>i was sadly mistaken .</td>\n",
       "      <td>negative</td>\n",
       "    </tr>\n",
       "    <tr>\n",
       "      <th>1</th>\n",
       "      <td>so on to the hoagies , the italian is general ...</td>\n",
       "      <td>negative</td>\n",
       "    </tr>\n",
       "    <tr>\n",
       "      <th>2</th>\n",
       "      <td>minimal meat and a ton of shredded lettuce .</td>\n",
       "      <td>negative</td>\n",
       "    </tr>\n",
       "    <tr>\n",
       "      <th>3</th>\n",
       "      <td>nothing really special &amp; not worthy of the $ _...</td>\n",
       "      <td>negative</td>\n",
       "    </tr>\n",
       "    <tr>\n",
       "      <th>4</th>\n",
       "      <td>second , the steak hoagie , it is atrocious .</td>\n",
       "      <td>negative</td>\n",
       "    </tr>\n",
       "  </tbody>\n",
       "</table>\n",
       "</div>"
      ],
      "text/plain": [
       "                                                text      attr\n",
       "0                             i was sadly mistaken .  negative\n",
       "1  so on to the hoagies , the italian is general ...  negative\n",
       "2       minimal meat and a ton of shredded lettuce .  negative\n",
       "3  nothing really special & not worthy of the $ _...  negative\n",
       "4      second , the steak hoagie , it is atrocious .  negative"
      ]
     },
     "execution_count": 2,
     "metadata": {},
     "output_type": "execute_result"
    }
   ],
   "source": [
    "yelp_train = get_dataset('yelp', 'train')\n",
    "yelp_dev = get_dataset('yelp', 'dev')\n",
    "print(len(yelp_train), len(yelp_dev))\n",
    "yelp_train.head()"
   ]
  },
  {
   "cell_type": "code",
   "execution_count": 3,
   "metadata": {},
   "outputs": [],
   "source": [
    "POSITIVE_TOKEN = \"<|positive|>\"\n",
    "NEGATIVE_TOKEN = \"<|negative|>\"\n",
    "EOS_TOKEN = \"<|endoftext|>\"\n",
    "\n",
    "token_map = {\n",
    "    \"positive\": POSITIVE_TOKEN,\n",
    "    \"negative\": NEGATIVE_TOKEN\n",
    "}"
   ]
  },
  {
   "cell_type": "code",
   "execution_count": 4,
   "metadata": {},
   "outputs": [],
   "source": [
    "def get_texts(df):\n",
    "    random.seed(42)\n",
    "    texts = []\n",
    "    for _, row in tqdm(df.iterrows(), total=len(df)):\n",
    "        text, attr = row['text'], row['attr']\n",
    "        new_text = token_map[attr] + \" \" + text + \" \" + EOS_TOKEN\n",
    "        texts.append(new_text)\n",
    "    random.shuffle(texts)\n",
    "    return texts"
   ]
  },
  {
   "cell_type": "code",
   "execution_count": 5,
   "metadata": {},
   "outputs": [
    {
     "data": {
      "application/vnd.jupyter.widget-view+json": {
       "model_id": "7e8a78e03c0040e9bac9e8e91f4058f7",
       "version_major": 2,
       "version_minor": 0
      },
      "text/plain": [
       "HBox(children=(FloatProgress(value=0.0, max=444101.0), HTML(value='')))"
      ]
     },
     "metadata": {},
     "output_type": "display_data"
    },
    {
     "name": "stdout",
     "output_type": "stream",
     "text": [
      "\n"
     ]
    },
    {
     "data": {
      "text/plain": [
       "(['<|negative|> when we came back my best friends iphone was no longer on the table . <|endoftext|>',\n",
       "  '<|positive|> absolute perfection every time . <|endoftext|>',\n",
       "  '<|positive|> glendale is pretty limited with non-chain restaurants so finding this place was amazing ! <|endoftext|>',\n",
       "  '<|negative|> our regular server was not here . <|endoftext|>',\n",
       "  '<|positive|> the staff are friendly & helpful . <|endoftext|>',\n",
       "  \"<|negative|> i 'd give this _num_ star in terms of food . <|endoftext|>\",\n",
       "  '<|positive|> our _num_ month old son ! <|endoftext|>',\n",
       "  '<|positive|> i would highly recommend this nail salon . <|endoftext|>',\n",
       "  '<|positive|> absolutely awesome ! <|endoftext|>',\n",
       "  '<|negative|> the filing job on my nails was so incredibly sloppy . <|endoftext|>'],\n",
       " [\"<|negative|> i gave one star because you ca n't pick lower than one star . <|endoftext|>\",\n",
       "  '<|positive|> first time here and the food is super yummy . <|endoftext|>',\n",
       "  '<|negative|> first off the rooms smell , the towels smell and the carpet is filthy ! <|endoftext|>',\n",
       "  '<|negative|> sucks . <|endoftext|>',\n",
       "  '<|negative|> i would never ever recommend this limo company to any of my friends . <|endoftext|>',\n",
       "  '<|negative|> boring menu that never changes , uninspired cocktail list and a deplorable beer selection . <|endoftext|>',\n",
       "  '<|positive|> yum yum yum . <|endoftext|>',\n",
       "  '<|negative|> there is no security cameras in the parking lot . <|endoftext|>',\n",
       "  '<|negative|> maybe it was my fault for ordering sea food in the desert ? <|endoftext|>',\n",
       "  '<|positive|> the view was spectacular . <|endoftext|>'])"
      ]
     },
     "execution_count": 5,
     "metadata": {},
     "output_type": "execute_result"
    }
   ],
   "source": [
    "texts = get_texts(yelp_train)\n",
    "texts[:10], texts[-10:]"
   ]
  },
  {
   "cell_type": "code",
   "execution_count": 24,
   "metadata": {},
   "outputs": [],
   "source": [
    "lines = [text + '\\n' for text in texts]\n",
    "with open('data/train_gpt_yelp_augmentation.txt', 'w') as f:\n",
    "    f.writelines(lines)"
   ]
  },
  {
   "cell_type": "code",
   "execution_count": 6,
   "metadata": {},
   "outputs": [
    {
     "data": {
      "application/vnd.jupyter.widget-view+json": {
       "model_id": "cbf0cec1a91c40f581aeb523fd7a11d5",
       "version_major": 2,
       "version_minor": 0
      },
      "text/plain": [
       "HBox(children=(FloatProgress(value=0.0, max=63483.0), HTML(value='')))"
      ]
     },
     "metadata": {},
     "output_type": "display_data"
    },
    {
     "name": "stdout",
     "output_type": "stream",
     "text": [
      "\n"
     ]
    },
    {
     "data": {
      "text/plain": [
       "['<|positive|> such cute clothes , shoes , and purses . <|endoftext|>',\n",
       " '<|positive|> great service , super nice employees . <|endoftext|>',\n",
       " '<|positive|> very nice ambiance in the restaraunt overall . <|endoftext|>',\n",
       " '<|positive|> this place makes me feel nostalgic . <|endoftext|>',\n",
       " '<|positive|> the staff is incredible . <|endoftext|>',\n",
       " '<|positive|> perfect done for medium rare . <|endoftext|>',\n",
       " '<|negative|> plus , the service sucked . <|endoftext|>',\n",
       " '<|negative|> also , chairs are dirty . <|endoftext|>',\n",
       " '<|positive|> the salon is always clean and has a positive atmosphere . <|endoftext|>',\n",
       " '<|negative|> last saturday i took my van in to get washed . <|endoftext|>']"
      ]
     },
     "execution_count": 6,
     "metadata": {},
     "output_type": "execute_result"
    }
   ],
   "source": [
    "dev_texts = get_texts(yelp_dev)\n",
    "dev_texts[:10]"
   ]
  },
  {
   "cell_type": "code",
   "execution_count": 8,
   "metadata": {},
   "outputs": [],
   "source": [
    "lines = [text + '\\n' for text in dev_texts]\n",
    "with open('data/dev_li_gpt_yelp_augmentation.txt', 'w') as f:\n",
    "    f.writelines(lines)"
   ]
  }
 ],
 "metadata": {
  "kernelspec": {
   "display_name": "Python 3",
   "language": "python",
   "name": "python3"
  },
  "language_info": {
   "codemirror_mode": {
    "name": "ipython",
    "version": 3
   },
   "file_extension": ".py",
   "mimetype": "text/x-python",
   "name": "python",
   "nbconvert_exporter": "python",
   "pygments_lexer": "ipython3",
   "version": "3.6.9"
  }
 },
 "nbformat": 4,
 "nbformat_minor": 4
}
