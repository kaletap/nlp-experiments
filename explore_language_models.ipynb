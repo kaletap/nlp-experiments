{
 "cells": [
  {
   "cell_type": "markdown",
   "metadata": {},
   "source": [
    "# How good are language models we use for Style Transfer?"
   ]
  },
  {
   "cell_type": "markdown",
   "metadata": {},
   "source": [
    "Let's load pretrained language models on sentiment data. We will test both yelp and sentiment treebank language models. "
   ]
  },
  {
   "cell_type": "code",
   "execution_count": 1,
   "metadata": {},
   "outputs": [],
   "source": [
    "import os\n",
    "import random\n",
    "import sys\n",
    "\n",
    "import matplotlib.pyplot as plt\n",
    "import numpy as np\n",
    "import pandas as pd\n",
    "import seaborn as sns\n",
    "import tensorflow as tf\n",
    "import torch\n",
    "import torch.nn as nn\n",
    "from tqdm.auto import tqdm\n",
    "\n",
    "plt.style.use('fivethirtyeight')"
   ]
  },
  {
   "cell_type": "code",
   "execution_count": 3,
   "metadata": {},
   "outputs": [],
   "source": [
    "from style_transfer import Tokenizer, get_dataset, translate\n",
    "sys.path.append('../deep-latent-sequence-model/src')\n",
    "from lm_lstm import LSTM_LM\n",
    "\n",
    "device = torch.device('cpu')\n",
    "model_dir = '../deep-latent-sequence-model/pretrained_lm/sentiment_style0'\n",
    "model_path = os.path.join(model_dir, 'model.pt')\n",
    "model = torch.load(model_path).eval().to(device)\n",
    "\n",
    "vocab_path = 'data/sentiment/text.vocab'\n",
    "with open(vocab_path) as f:\n",
    "    vocab = [word.strip() for word in f.readlines()]\n",
    "tokenizer = Tokenizer(vocab)"
   ]
  },
  {
   "cell_type": "code",
   "execution_count": 4,
   "metadata": {},
   "outputs": [
    {
     "data": {
      "text/plain": [
       "LSTM_LM(\n",
       "  (embed): Embedding(11334, 64, padding_idx=0)\n",
       "  (dropout_in): Dropout(p=0.3, inplace=False)\n",
       "  (dropout_out): Dropout(p=0.3, inplace=False)\n",
       "  (lstm): LSTM(64, 256, batch_first=True)\n",
       "  (pred_linear): Linear(in_features=256, out_features=11334, bias=True)\n",
       "  (loss): CrossEntropyLoss()\n",
       ")"
      ]
     },
     "execution_count": 4,
     "metadata": {},
     "output_type": "execute_result"
    }
   ],
   "source": [
    "model"
   ]
  },
  {
   "cell_type": "markdown",
   "metadata": {},
   "source": [
    "## Predicting next word given a sequence of words "
   ]
  },
  {
   "cell_type": "code",
   "execution_count": 5,
   "metadata": {},
   "outputs": [
    {
     "name": "stdout",
     "output_type": "stream",
     "text": [
      "tensor([-27.3450], grad_fn=<NegBackward>)\n"
     ]
    },
    {
     "data": {
      "text/plain": [
       "torch.Size([11334])"
      ]
     },
     "execution_count": 5,
     "metadata": {},
     "output_type": "execute_result"
    }
   ],
   "source": [
    "x = torch.tensor([[1, 2, 3]])\n",
    "x_len = torch.tensor([3])\n",
    "print(model.log_probability(x, x_len))\n",
    "logits = model.decode(x, x_len)  # (batch_size, seq_len, vocab_size)\n",
    "output_logits = logits[0, -1, :]\n",
    "output_logits.shape"
   ]
  },
  {
   "cell_type": "code",
   "execution_count": 6,
   "metadata": {},
   "outputs": [
    {
     "data": {
      "text/plain": [
       "tensor(29, grad_fn=<NotImplemented>)"
      ]
     },
     "execution_count": 6,
     "metadata": {},
     "output_type": "execute_result"
    }
   ],
   "source": [
    "predicted_words = output_logits.argmax()\n",
    "predicted_words"
   ]
  },
  {
   "cell_type": "code",
   "execution_count": 7,
   "metadata": {},
   "outputs": [
    {
     "data": {
      "text/plain": [
       "'ode'"
      ]
     },
     "execution_count": 7,
     "metadata": {},
     "output_type": "execute_result"
    }
   ],
   "source": [
    "tokenizer.decode(6904)"
   ]
  },
  {
   "cell_type": "markdown",
   "metadata": {},
   "source": [
    "## Deterministic sequence generation given initial word"
   ]
  },
  {
   "cell_type": "code",
   "execution_count": 8,
   "metadata": {},
   "outputs": [
    {
     "data": {
      "text/plain": [
       "[5026]"
      ]
     },
     "execution_count": 8,
     "metadata": {},
     "output_type": "execute_result"
    }
   ],
   "source": [
    "tokenizer.tokenize('i')"
   ]
  },
  {
   "cell_type": "markdown",
   "metadata": {},
   "source": [
    "Single next word to see if this works."
   ]
  },
  {
   "cell_type": "code",
   "execution_count": 9,
   "metadata": {},
   "outputs": [
    {
     "data": {
      "text/plain": [
       "(4092, 'food')"
      ]
     },
     "execution_count": 9,
     "metadata": {},
     "output_type": "execute_result"
    }
   ],
   "source": [
    "words = [\"The\"]\n",
    "tokens = [tokenizer.tokenize(word)[0] for word in words]\n",
    "x = torch.tensor([tokens])\n",
    "x_len = [len(tokens)]\n",
    "next_word_logits = model.decode(x, x_len)[0, -1, :]\n",
    "predicted_token = next_word_logits.argmax().item()\n",
    "predicted_token, tokenizer.decode(predicted_token)"
   ]
  },
  {
   "cell_type": "markdown",
   "metadata": {},
   "source": [
    "Generating sequence of words."
   ]
  },
  {
   "cell_type": "code",
   "execution_count": 10,
   "metadata": {},
   "outputs": [
    {
     "data": {
      "text/plain": [
       "'The food is great .'"
      ]
     },
     "execution_count": 10,
     "metadata": {},
     "output_type": "execute_result"
    }
   ],
   "source": [
    "words = [\"The\"]\n",
    "tokens = [tokenizer.tokenize(word)[0] for word in words]\n",
    "while words[-1] != '.':\n",
    "    x = torch.tensor([tokens])\n",
    "    x_len = [len(tokens)]\n",
    "    next_word_logits = model.decode(x, x_len)[0, -1, :]\n",
    "    predicted_token = next_word_logits.argmax().item()\n",
    "    tokens.append(predicted_token)\n",
    "    words.append(tokenizer.decode(predicted_token))\n",
    "' '.join(words)"
   ]
  },
  {
   "cell_type": "code",
   "execution_count": 11,
   "metadata": {},
   "outputs": [],
   "source": [
    "def generate_sequence_from(words):\n",
    "    tokens = [tokenizer.tokenize(word)[0] for word in words]\n",
    "    while words[-1] != '.':\n",
    "        x = torch.tensor([tokens])\n",
    "        x_len = [len(tokens)]\n",
    "        next_word_logits = model.decode(x, x_len)[0, -1, :]\n",
    "        predicted_token = next_word_logits.argmax().item()\n",
    "        tokens.append(predicted_token)\n",
    "        words.append(tokenizer.decode(predicted_token))\n",
    "    return ' '.join(words)"
   ]
  },
  {
   "cell_type": "code",
   "execution_count": 12,
   "metadata": {},
   "outputs": [
    {
     "name": "stdout",
     "output_type": "stream",
     "text": [
      "The food is great .\n",
      "The place food is great .\n",
      "I have been to this place .\n",
      "We had a great time .\n",
      "What i wanted .\n",
      "Well .\n",
      "Do n't go to this place .\n",
      "Hmm .\n",
      "Possibly the best .\n",
      "Not .\n",
      "I would have been to this place .\n",
      "The restaurant food is great .\n"
     ]
    }
   ],
   "source": [
    "print(generate_sequence_from([\"The\"]))\n",
    "print(generate_sequence_from([\"The place\"]))\n",
    "print(generate_sequence_from([\"I\"]))\n",
    "print(generate_sequence_from([\"We\"]))\n",
    "print(generate_sequence_from([\"What\"]))\n",
    "print(generate_sequence_from([\"Well\"]))\n",
    "print(generate_sequence_from([\"Do\"]))\n",
    "print(generate_sequence_from([\"Hmm\"]))\n",
    "print(generate_sequence_from([\"Possibly\"]))\n",
    "print(generate_sequence_from([\"Not\"]))\n",
    "print(generate_sequence_from([\"I would\"]))\n",
    "print(generate_sequence_from([\"The restaurant\"]))"
   ]
  },
  {
   "cell_type": "markdown",
   "metadata": {},
   "source": [
    "The language model we trained is not of the best quality unfortunately. If language model doesn't work well, we can't really expect final style transfer model to work well, since it is a prior in our model.\n",
    "\n",
    "I think it is crucial to have good language model. Maybe Bert with WordPiece tokenization will improve things."
   ]
  },
  {
   "cell_type": "markdown",
   "metadata": {},
   "source": [
    "## Random sampling of words with logits probability"
   ]
  },
  {
   "cell_type": "code",
   "execution_count": 13,
   "metadata": {},
   "outputs": [
    {
     "data": {
      "text/plain": [
       "(7504, 'place')"
      ]
     },
     "execution_count": 13,
     "metadata": {},
     "output_type": "execute_result"
    }
   ],
   "source": [
    "words = [\"The\"]\n",
    "tokens = [tokenizer.tokenize(word)[0] for word in words]\n",
    "x = torch.tensor([tokens])\n",
    "x_len = [len(tokens)]\n",
    "next_word_logits = model.decode(x, x_len)[0, -1, :]\n",
    "predicted_token = random.choices(np.arange(len(next_word_logits)), weights=next_word_logits.softmax(0))[0]\n",
    "predicted_token, tokenizer.decode(predicted_token)"
   ]
  },
  {
   "cell_type": "markdown",
   "metadata": {},
   "source": [
    "The most probable words after 'the'."
   ]
  },
  {
   "cell_type": "code",
   "execution_count": 14,
   "metadata": {},
   "outputs": [
    {
     "data": {
      "text/plain": [
       "[('food', 0.072495654),\n",
       " ('best', 0.047092237),\n",
       " ('service', 0.032752726),\n",
       " ('place', 0.023339666),\n",
       " ('staff', 0.017385123),\n",
       " ('first', 0.012434456),\n",
       " ('worst', 0.011843561),\n",
       " ('whole', 0.010687798),\n",
       " ('same', 0.010209257),\n",
       " ('next', 0.009600007),\n",
       " ('price', 0.0092694),\n",
       " ('restaurant', 0.009143755),\n",
       " ('other', 0.0090548815),\n",
       " ('entire', 0.008228692),\n",
       " ('store', 0.007852689)]"
      ]
     },
     "execution_count": 14,
     "metadata": {},
     "output_type": "execute_result"
    }
   ],
   "source": [
    "def most_probable(next_word_logits, k=10):\n",
    "    word_probs = list(zip(vocab, next_word_logits.softmax(0).detach().numpy()))\n",
    "    return sorted(word_probs, key=lambda t: t[1], reverse=True)[:k]\n",
    "most_probable(next_word_logits, k=15)"
   ]
  },
  {
   "cell_type": "code",
   "execution_count": 15,
   "metadata": {},
   "outputs": [
    {
     "data": {
      "image/png": "[encoded data removed]",
      "text/plain": [
       "<Figure size 432x288 with 1 Axes>"
      ]
     },
     "metadata": {},
     "output_type": "display_data"
    }
   ],
   "source": [
    "probs = next_word_logits.softmax(0).detach().numpy()\n",
    "sorted_word_probs = sorted(probs, reverse=True)\n",
    "plt.plot(sorted_word_probs[:100])\n",
    "plt.title('Probabilities of top words');"
   ]
  },
  {
   "cell_type": "code",
   "execution_count": 24,
   "metadata": {},
   "outputs": [
    {
     "data": {
      "text/plain": [
       "5.92139e-07"
      ]
     },
     "execution_count": 24,
     "metadata": {},
     "output_type": "execute_result"
    }
   ],
   "source": [
    "dict(most_probable(next_word_logits, k=1000000))['</s>']"
   ]
  },
  {
   "cell_type": "code",
   "execution_count": 25,
   "metadata": {},
   "outputs": [
    {
     "data": {
      "text/plain": [
       "[0]"
      ]
     },
     "execution_count": 25,
     "metadata": {},
     "output_type": "execute_result"
    }
   ],
   "source": [
    "tokenizer.tokenize('<pad>')"
   ]
  },
  {
   "cell_type": "code",
   "execution_count": 26,
   "metadata": {},
   "outputs": [
    {
     "data": {
      "text/plain": [
       "('<pad>', '<unk>')"
      ]
     },
     "execution_count": 26,
     "metadata": {},
     "output_type": "execute_result"
    }
   ],
   "source": [
    "tokenizer.decode(0), tokenizer.decode(1)"
   ]
  },
  {
   "cell_type": "markdown",
   "metadata": {},
   "source": [
    "I just realized, that in my vocab I forgot to put \\<pad\\> and \\<unk\\> tokens! This means that my models might not work properly, and this can be the reason for poor performance of my style transfer experiments.\n",
    "\n",
    "EDIT: solved now"
   ]
  },
  {
   "cell_type": "code",
   "execution_count": 28,
   "metadata": {},
   "outputs": [
    {
     "name": "stdout",
     "output_type": "stream",
     "text": [
      "The pizza ! </s> </s> .\n",
      "The price was also mediocre .\n",
      "The delivery i 'm done .\n",
      "The new dream dog pizza ! </s> </s> .\n",
      "The chairs were filthy .\n",
      "The best service i have ever had in my life .\n",
      "The people were really nice ! </s> </s> ! </s> </s> .\n",
      "The pizza and i ca n't wait to move .\n",
      "The ribs .\n",
      "The french toast is incredible .\n",
      "The spring rolls .\n",
      "The atmosphere .\n",
      "The exceptionally dim sum options .\n",
      "The place constantly staffed .\n",
      "The errors .\n",
      "The noise and prices were great .\n",
      "The yard has a beer .\n",
      "The philadelphia rolls .\n",
      "The best donut you ever used at ! </s> </s> .\n",
      "The events here , great latte legs .\n",
      "The entrees are basically too soggy .\n",
      "The pizza is amazing .\n",
      "The music said it ! </s> </s> .\n",
      "The stuff they do ! </s> .\n",
      "The best happy hour on the east side .\n",
      "The espresso tea cake .\n",
      "The music my energy actually working at it .\n",
      "The bowl .\n",
      "The food is beef .\n",
      "The best mexican food ive had .\n"
     ]
    }
   ],
   "source": [
    "random.seed(42)\n",
    "def generate_random_sequence_from(words):\n",
    "    tokens = [tokenizer.tokenize(word)[0] for word in words]\n",
    "    while words[-1] != '.' and words[-1] != '<pad>':\n",
    "        x = torch.tensor([tokens])\n",
    "        x_len = [len(tokens)]\n",
    "        next_word_logits = model.decode(x, x_len)[0, -1, :]\n",
    "        predicted_token = random.choices(np.arange(len(next_word_logits)), weights=next_word_logits.softmax(0))[0]\n",
    "        tokens.append(predicted_token)\n",
    "        words.append(tokenizer.decode(predicted_token))\n",
    "    return ' '.join(words)\n",
    "for _ in range(30):\n",
    "    print(generate_random_sequence_from([\"The\"]))"
   ]
  },
  {
   "cell_type": "markdown",
   "metadata": {},
   "source": [
    "Interesting fact: when you use a token that never occurs, the RNN can predict it as a possible output. In fact it does it quite often. When unknown token is put into the model, the model doesn't know what to do, the logits can become big since the embedding of the unknown token wasn't optimized at all.\n",
    "\n",
    "I have to solve it now."
   ]
  }
 ],
 "metadata": {
  "kernelspec": {
   "display_name": "Python 3",
   "language": "python",
   "name": "python3"
  },
  "language_info": {
   "codemirror_mode": {
    "name": "ipython",
    "version": 3
   },
   "file_extension": ".py",
   "mimetype": "text/x-python",
   "name": "python",
   "nbconvert_exporter": "python",
   "pygments_lexer": "ipython3",
   "version": "3.6.9"
  }
 },
 "nbformat": 4,
 "nbformat_minor": 4
}
