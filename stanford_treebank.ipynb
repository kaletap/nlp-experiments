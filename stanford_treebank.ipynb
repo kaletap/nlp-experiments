{
 "cells": [
  {
   "cell_type": "markdown",
   "metadata": {},
   "source": [
    "# Exploration of Stanford Sentiment Treebank dataset\n",
    "https://nlp.stanford.edu/sentiment/code.html"
   ]
  },
  {
   "cell_type": "code",
   "execution_count": 19,
   "metadata": {},
   "outputs": [],
   "source": [
    "import itertools\n",
    "import os\n",
    "import sys\n",
    "from typing import Dict, List, Union\n",
    "\n",
    "import matplotlib.pyplot as plt\n",
    "import numpy as np\n",
    "import pandas as pd\n",
    "import seaborn as sns\n",
    "import tensorflow as tf\n",
    "import torch\n",
    "import torch.nn as nn\n",
    "from tqdm.auto import tqdm\n",
    "from pandas import option_context"
   ]
  },
  {
   "cell_type": "code",
   "execution_count": 20,
   "metadata": {},
   "outputs": [],
   "source": [
    "data_path = 'data/stanfordSentimentTreebank'\n",
    "text_path = os.path.join(data_path, 'datasetSentences.txt')\n",
    "sentiment_path = os.path.join(data_path, 'sentiment_labels.txt')\n",
    "split_path = os.path.join(data_path, 'datasetSplit.txt')\n",
    "dictionary_path = os.path.join(data_path, 'dictionary.txt')\n",
    "\n",
    "\n",
    "text_df = pd.read_csv(text_path, sep='\\t')\n",
    "    \n",
    "sentiment_df = pd.read_csv(sentiment_path, sep='|')\n",
    "\n",
    "split_df = pd.read_csv(split_path, sep=',')\n",
    "\n",
    "split_df = pd.read_csv(split_path, sep=',')\n",
    "\n",
    "dictionary_df = pd.read_csv(dictionary_path, sep='|', header=None)\n",
    "dictionary_df.columns = ['phrase', 'id']"
   ]
  },
  {
   "cell_type": "code",
   "execution_count": 21,
   "metadata": {},
   "outputs": [],
   "source": [
    "id_to_sentiment = {id_: sentiment for id_, sentiment in zip(sentiment_df['phrase ids'], sentiment_df['sentiment values'])}\n",
    "phrase_to_sentiment = {sentence: id_to_sentiment[id_] for sentence, id_ in zip(dictionary_df['phrase'], dictionary_df['id'])}\n",
    "sentiments = [phrase_to_sentiment.get(phrase) for phrase in text_df['sentence']]\n",
    "text_df['sentiment'] = sentiments\n",
    "text_df = pd.merge(text_df, split_df, on='sentence_index')"
   ]
  },
  {
   "cell_type": "code",
   "execution_count": 22,
   "metadata": {},
   "outputs": [
    {
     "data": {
      "text/html": [
       "<div>\n",
       "<style scoped>\n",
       "    .dataframe tbody tr th:only-of-type {\n",
       "        vertical-align: middle;\n",
       "    }\n",
       "\n",
       "    .dataframe tbody tr th {\n",
       "        vertical-align: top;\n",
       "    }\n",
       "\n",
       "    .dataframe thead th {\n",
       "        text-align: right;\n",
       "    }\n",
       "</style>\n",
       "<table border=\"1\" class=\"dataframe\">\n",
       "  <thead>\n",
       "    <tr style=\"text-align: right;\">\n",
       "      <th></th>\n",
       "      <th>sentence_index</th>\n",
       "      <th>sentence</th>\n",
       "      <th>sentiment</th>\n",
       "      <th>splitset_label</th>\n",
       "    </tr>\n",
       "  </thead>\n",
       "  <tbody>\n",
       "    <tr>\n",
       "      <th>0</th>\n",
       "      <td>1</td>\n",
       "      <td>The Rock is destined to be the 21st Century 's...</td>\n",
       "      <td>0.69444</td>\n",
       "      <td>1</td>\n",
       "    </tr>\n",
       "    <tr>\n",
       "      <th>1</th>\n",
       "      <td>2</td>\n",
       "      <td>The gorgeously elaborate continuation of `` Th...</td>\n",
       "      <td>0.83333</td>\n",
       "      <td>1</td>\n",
       "    </tr>\n",
       "    <tr>\n",
       "      <th>2</th>\n",
       "      <td>3</td>\n",
       "      <td>Effective but too-tepid biopic</td>\n",
       "      <td>0.51389</td>\n",
       "      <td>2</td>\n",
       "    </tr>\n",
       "    <tr>\n",
       "      <th>3</th>\n",
       "      <td>4</td>\n",
       "      <td>If you sometimes like to go to the movies to h...</td>\n",
       "      <td>0.73611</td>\n",
       "      <td>2</td>\n",
       "    </tr>\n",
       "    <tr>\n",
       "      <th>4</th>\n",
       "      <td>5</td>\n",
       "      <td>Emerges as something rare , an issue movie tha...</td>\n",
       "      <td>0.86111</td>\n",
       "      <td>2</td>\n",
       "    </tr>\n",
       "  </tbody>\n",
       "</table>\n",
       "</div>"
      ],
      "text/plain": [
       "   sentence_index                                           sentence  \\\n",
       "0               1  The Rock is destined to be the 21st Century 's...   \n",
       "1               2  The gorgeously elaborate continuation of `` Th...   \n",
       "2               3                     Effective but too-tepid biopic   \n",
       "3               4  If you sometimes like to go to the movies to h...   \n",
       "4               5  Emerges as something rare , an issue movie tha...   \n",
       "\n",
       "   sentiment  splitset_label  \n",
       "0    0.69444               1  \n",
       "1    0.83333               1  \n",
       "2    0.51389               2  \n",
       "3    0.73611               2  \n",
       "4    0.86111               2  "
      ]
     },
     "execution_count": 22,
     "metadata": {},
     "output_type": "execute_result"
    }
   ],
   "source": [
    "text_df.head()"
   ]
  },
  {
   "cell_type": "code",
   "execution_count": 23,
   "metadata": {},
   "outputs": [
    {
     "data": {
      "image/png": "[encoded data removed]",
      "text/plain": [
       "<Figure size 432x288 with 1 Axes>"
      ]
     },
     "metadata": {
      "needs_background": "light"
     },
     "output_type": "display_data"
    }
   ],
   "source": [
    "sns.distplot(text_df['sentiment']);"
   ]
  },
  {
   "cell_type": "code",
   "execution_count": 24,
   "metadata": {},
   "outputs": [
    {
     "data": {
      "text/html": [
       "<div>\n",
       "<style scoped>\n",
       "    .dataframe tbody tr th:only-of-type {\n",
       "        vertical-align: middle;\n",
       "    }\n",
       "\n",
       "    .dataframe tbody tr th {\n",
       "        vertical-align: top;\n",
       "    }\n",
       "\n",
       "    .dataframe thead th {\n",
       "        text-align: right;\n",
       "    }\n",
       "</style>\n",
       "<table border=\"1\" class=\"dataframe\">\n",
       "  <thead>\n",
       "    <tr style=\"text-align: right;\">\n",
       "      <th></th>\n",
       "      <th>sentence_index</th>\n",
       "      <th>sentence</th>\n",
       "      <th>sentiment</th>\n",
       "      <th>splitset_label</th>\n",
       "    </tr>\n",
       "  </thead>\n",
       "  <tbody>\n",
       "    <tr>\n",
       "      <th>2</th>\n",
       "      <td>3</td>\n",
       "      <td>Effective but too-tepid biopic</td>\n",
       "      <td>0.51389</td>\n",
       "      <td>2</td>\n",
       "    </tr>\n",
       "    <tr>\n",
       "      <th>78</th>\n",
       "      <td>79</td>\n",
       "      <td>The appearance of Treebeard and Gollum 's expanded role will either have you loving what you 're seeing , or rolling your eyes .</td>\n",
       "      <td>0.51389</td>\n",
       "      <td>2</td>\n",
       "    </tr>\n",
       "    <tr>\n",
       "      <th>232</th>\n",
       "      <td>233</td>\n",
       "      <td>Though this film can be clumsy , its ambitions are equally -- and admirably -- uncommercial .</td>\n",
       "      <td>0.48611</td>\n",
       "      <td>2</td>\n",
       "    </tr>\n",
       "    <tr>\n",
       "      <th>260</th>\n",
       "      <td>261</td>\n",
       "      <td>The additional storyline is interesting and entertaining , but it does n't have the same magical quality as the beginning of the story .</td>\n",
       "      <td>0.48611</td>\n",
       "      <td>2</td>\n",
       "    </tr>\n",
       "    <tr>\n",
       "      <th>278</th>\n",
       "      <td>279</td>\n",
       "      <td>Using his audience as a figurative port-of-call , Dong pulls his even-handed ideological ship to their dock for unloading , before he continues his longer journey still ahead .</td>\n",
       "      <td>0.51389</td>\n",
       "      <td>2</td>\n",
       "    </tr>\n",
       "    <tr>\n",
       "      <th>294</th>\n",
       "      <td>295</td>\n",
       "      <td>Ultimately , the message of Trouble Every Day seems to be that all sexual desire disrupts life 's stasis .</td>\n",
       "      <td>0.51389</td>\n",
       "      <td>2</td>\n",
       "    </tr>\n",
       "    <tr>\n",
       "      <th>398</th>\n",
       "      <td>399</td>\n",
       "      <td>... the gentle melding of drama and comedy makes `` What Time Is It There ? ''</td>\n",
       "      <td>0.48611</td>\n",
       "      <td>2</td>\n",
       "    </tr>\n",
       "    <tr>\n",
       "      <th>431</th>\n",
       "      <td>432</td>\n",
       "      <td>Chalk it up to my adoration for both De Niro and Murphy , but I had a pretty good time with this movie - despite its myriad flaws .</td>\n",
       "      <td>0.51389</td>\n",
       "      <td>2</td>\n",
       "    </tr>\n",
       "    <tr>\n",
       "      <th>467</th>\n",
       "      <td>468</td>\n",
       "      <td>` Tadpole ' was one of the films so declared this year , but it 's really more of The Next Pretty Good Thing .</td>\n",
       "      <td>0.51389</td>\n",
       "      <td>1</td>\n",
       "    </tr>\n",
       "    <tr>\n",
       "      <th>523</th>\n",
       "      <td>524</td>\n",
       "      <td>It 's often infuriatingly glib and posturing , and yet it has been made with great evident care and manages to deliver up the man in a way to arouse further curiosity in even the most unknowing viewer .</td>\n",
       "      <td>0.48611</td>\n",
       "      <td>2</td>\n",
       "    </tr>\n",
       "  </tbody>\n",
       "</table>\n",
       "</div>"
      ],
      "text/plain": [
       "     sentence_index  \\\n",
       "2                 3   \n",
       "78               79   \n",
       "232             233   \n",
       "260             261   \n",
       "278             279   \n",
       "294             295   \n",
       "398             399   \n",
       "431             432   \n",
       "467             468   \n",
       "523             524   \n",
       "\n",
       "                                                                                                                                                                                                       sentence  \\\n",
       "2                                                                                                                                                                                Effective but too-tepid biopic   \n",
       "78                                                                             The appearance of Treebeard and Gollum 's expanded role will either have you loving what you 're seeing , or rolling your eyes .   \n",
       "232                                                                                                               Though this film can be clumsy , its ambitions are equally -- and admirably -- uncommercial .   \n",
       "260                                                                    The additional storyline is interesting and entertaining , but it does n't have the same magical quality as the beginning of the story .   \n",
       "278                            Using his audience as a figurative port-of-call , Dong pulls his even-handed ideological ship to their dock for unloading , before he continues his longer journey still ahead .   \n",
       "294                                                                                                  Ultimately , the message of Trouble Every Day seems to be that all sexual desire disrupts life 's stasis .   \n",
       "398                                                                                                                              ... the gentle melding of drama and comedy makes `` What Time Is It There ? ''   \n",
       "431                                                                         Chalk it up to my adoration for both De Niro and Murphy , but I had a pretty good time with this movie - despite its myriad flaws .   \n",
       "467                                                                                              ` Tadpole ' was one of the films so declared this year , but it 's really more of The Next Pretty Good Thing .   \n",
       "523  It 's often infuriatingly glib and posturing , and yet it has been made with great evident care and manages to deliver up the man in a way to arouse further curiosity in even the most unknowing viewer .   \n",
       "\n",
       "     sentiment  splitset_label  \n",
       "2      0.51389               2  \n",
       "78     0.51389               2  \n",
       "232    0.48611               2  \n",
       "260    0.48611               2  \n",
       "278    0.51389               2  \n",
       "294    0.51389               2  \n",
       "398    0.48611               2  \n",
       "431    0.51389               2  \n",
       "467    0.51389               1  \n",
       "523    0.48611               2  "
      ]
     },
     "metadata": {},
     "output_type": "display_data"
    }
   ],
   "source": [
    "neutral = text_df[(text_df['sentiment'] < 0.52) & (text_df['sentiment'] > 0.48) & (text_df['sentiment'] != 0.5)]\n",
    "with option_context('display.max_colwidth', 400):\n",
    "    display(neutral.head(10))"
   ]
  },
  {
   "cell_type": "code",
   "execution_count": 25,
   "metadata": {},
   "outputs": [
    {
     "data": {
      "text/html": [
       "<div>\n",
       "<style scoped>\n",
       "    .dataframe tbody tr th:only-of-type {\n",
       "        vertical-align: middle;\n",
       "    }\n",
       "\n",
       "    .dataframe tbody tr th {\n",
       "        vertical-align: top;\n",
       "    }\n",
       "\n",
       "    .dataframe thead th {\n",
       "        text-align: right;\n",
       "    }\n",
       "</style>\n",
       "<table border=\"1\" class=\"dataframe\">\n",
       "  <thead>\n",
       "    <tr style=\"text-align: right;\">\n",
       "      <th></th>\n",
       "      <th>sentence_index</th>\n",
       "      <th>sentence</th>\n",
       "      <th>sentiment</th>\n",
       "      <th>splitset_label</th>\n",
       "    </tr>\n",
       "  </thead>\n",
       "  <tbody>\n",
       "    <tr>\n",
       "      <th>1494</th>\n",
       "      <td>1495</td>\n",
       "      <td>Immersing us in the endlessly inventive , fiercely competitive world of hip-hop DJs , the project is sensational and revelatory , even if scratching makes you itch .</td>\n",
       "      <td>0.70833</td>\n",
       "      <td>3</td>\n",
       "    </tr>\n",
       "    <tr>\n",
       "      <th>3428</th>\n",
       "      <td>3429</td>\n",
       "      <td>It is an unstinting look at a collaboration between damaged people that may or may not qual</td>\n",
       "      <td>0.70833</td>\n",
       "      <td>1</td>\n",
       "    </tr>\n",
       "    <tr>\n",
       "      <th>4247</th>\n",
       "      <td>4248</td>\n",
       "      <td>Aniston has at last decisively broken with her Friends image in an independent film of satiric fire and emotional turmoil .</td>\n",
       "      <td>0.70833</td>\n",
       "      <td>1</td>\n",
       "    </tr>\n",
       "    <tr>\n",
       "      <th>11557</th>\n",
       "      <td>11558</td>\n",
       "      <td>` Possession , ' based on the book by A.S. Byatt , demands that LaBute deal with the subject of love head-on ; trading in his cynicism for reverence and a little wit</td>\n",
       "      <td>0.70833</td>\n",
       "      <td>1</td>\n",
       "    </tr>\n",
       "    <tr>\n",
       "      <th>5030</th>\n",
       "      <td>5031</td>\n",
       "      <td>The film is delicately narrated by Martin Landau and directed with sensitivity and skill by Dana Janklowicz-Mann .</td>\n",
       "      <td>0.70833</td>\n",
       "      <td>1</td>\n",
       "    </tr>\n",
       "    <tr>\n",
       "      <th>4117</th>\n",
       "      <td>4118</td>\n",
       "      <td>It excels because , unlike so many other Hollywood movies of its ilk , it offers hope .</td>\n",
       "      <td>0.70833</td>\n",
       "      <td>1</td>\n",
       "    </tr>\n",
       "    <tr>\n",
       "      <th>4364</th>\n",
       "      <td>4365</td>\n",
       "      <td>This is a film that manages to find greatness in the hue of its drastic iconography .</td>\n",
       "      <td>0.70833</td>\n",
       "      <td>1</td>\n",
       "    </tr>\n",
       "    <tr>\n",
       "      <th>219</th>\n",
       "      <td>220</td>\n",
       "      <td>A somewhat crudely constructed but gripping , questing look at a person so racked with self-loathing , he becomes an enemy to his own race .</td>\n",
       "      <td>0.70833</td>\n",
       "      <td>2</td>\n",
       "    </tr>\n",
       "    <tr>\n",
       "      <th>4765</th>\n",
       "      <td>4766</td>\n",
       "      <td>Although shot with little style , Skins is heartfelt and achingly real .</td>\n",
       "      <td>0.70833</td>\n",
       "      <td>1</td>\n",
       "    </tr>\n",
       "    <tr>\n",
       "      <th>3392</th>\n",
       "      <td>3393</td>\n",
       "      <td>Foster breathes life into a roll that could have otherwise been bland and run of the mill .</td>\n",
       "      <td>0.70833</td>\n",
       "      <td>1</td>\n",
       "    </tr>\n",
       "  </tbody>\n",
       "</table>\n",
       "</div>"
      ],
      "text/plain": [
       "       sentence_index  \\\n",
       "1494             1495   \n",
       "3428             3429   \n",
       "4247             4248   \n",
       "11557           11558   \n",
       "5030             5031   \n",
       "4117             4118   \n",
       "4364             4365   \n",
       "219               220   \n",
       "4765             4766   \n",
       "3392             3393   \n",
       "\n",
       "                                                                                                                                                                    sentence  \\\n",
       "1494   Immersing us in the endlessly inventive , fiercely competitive world of hip-hop DJs , the project is sensational and revelatory , even if scratching makes you itch .   \n",
       "3428                                                                             It is an unstinting look at a collaboration between damaged people that may or may not qual   \n",
       "4247                                             Aniston has at last decisively broken with her Friends image in an independent film of satiric fire and emotional turmoil .   \n",
       "11557  ` Possession , ' based on the book by A.S. Byatt , demands that LaBute deal with the subject of love head-on ; trading in his cynicism for reverence and a little wit   \n",
       "5030                                                      The film is delicately narrated by Martin Landau and directed with sensitivity and skill by Dana Janklowicz-Mann .   \n",
       "4117                                                                                 It excels because , unlike so many other Hollywood movies of its ilk , it offers hope .   \n",
       "4364                                                                                   This is a film that manages to find greatness in the hue of its drastic iconography .   \n",
       "219                             A somewhat crudely constructed but gripping , questing look at a person so racked with self-loathing , he becomes an enemy to his own race .   \n",
       "4765                                                                                                Although shot with little style , Skins is heartfelt and achingly real .   \n",
       "3392                                                                             Foster breathes life into a roll that could have otherwise been bland and run of the mill .   \n",
       "\n",
       "       sentiment  splitset_label  \n",
       "1494     0.70833               3  \n",
       "3428     0.70833               1  \n",
       "4247     0.70833               1  \n",
       "11557    0.70833               1  \n",
       "5030     0.70833               1  \n",
       "4117     0.70833               1  \n",
       "4364     0.70833               1  \n",
       "219      0.70833               2  \n",
       "4765     0.70833               1  \n",
       "3392     0.70833               1  "
      ]
     },
     "metadata": {},
     "output_type": "display_data"
    }
   ],
   "source": [
    "x = 0.7\n",
    "with option_context('display.max_colwidth', 400):\n",
    "    display(text_df[text_df['sentiment'] > x].sort_values('sentiment').head(10))"
   ]
  },
  {
   "cell_type": "markdown",
   "metadata": {},
   "source": [
    "I decided to set thresholds of $0.3$ and $0.7$ for negative and positive sentiment respectively. That leaves us with 6515 examples out of initial 11855, with 53% positive texts."
   ]
  },
  {
   "cell_type": "code",
   "execution_count": 26,
   "metadata": {},
   "outputs": [],
   "source": [
    "df = text_df[(text_df['sentiment'] > 0.7) | (text_df['sentiment'] < 0.3)].copy()"
   ]
  },
  {
   "cell_type": "code",
   "execution_count": 27,
   "metadata": {},
   "outputs": [
    {
     "data": {
      "text/plain": [
       "(6515, 11855)"
      ]
     },
     "execution_count": 27,
     "metadata": {},
     "output_type": "execute_result"
    }
   ],
   "source": [
    "len(df), len(text_df)"
   ]
  },
  {
   "cell_type": "code",
   "execution_count": 28,
   "metadata": {},
   "outputs": [],
   "source": [
    "df['label'] = [1 if sentiment > 0.5 else 0 for sentiment in df['sentiment']]"
   ]
  },
  {
   "cell_type": "code",
   "execution_count": 29,
   "metadata": {},
   "outputs": [
    {
     "data": {
      "text/plain": [
       "0.5318495778971604"
      ]
     },
     "execution_count": 29,
     "metadata": {},
     "output_type": "execute_result"
    }
   ],
   "source": [
    "(df['label'] == 1).mean()"
   ]
  },
  {
   "cell_type": "code",
   "execution_count": 30,
   "metadata": {},
   "outputs": [],
   "source": [
    "df['train'] = df['splitset_label'] == 1\n",
    "df['dev'] = df['splitset_label'] == 3\n",
    "df['test'] = df['splitset_label'] == 2"
   ]
  },
  {
   "cell_type": "code",
   "execution_count": 31,
   "metadata": {},
   "outputs": [
    {
     "data": {
      "text/html": [
       "<div>\n",
       "<style scoped>\n",
       "    .dataframe tbody tr th:only-of-type {\n",
       "        vertical-align: middle;\n",
       "    }\n",
       "\n",
       "    .dataframe tbody tr th {\n",
       "        vertical-align: top;\n",
       "    }\n",
       "\n",
       "    .dataframe thead th {\n",
       "        text-align: right;\n",
       "    }\n",
       "</style>\n",
       "<table border=\"1\" class=\"dataframe\">\n",
       "  <thead>\n",
       "    <tr style=\"text-align: right;\">\n",
       "      <th></th>\n",
       "      <th>sentence_index</th>\n",
       "      <th>sentence</th>\n",
       "      <th>sentiment</th>\n",
       "      <th>splitset_label</th>\n",
       "      <th>label</th>\n",
       "      <th>train</th>\n",
       "      <th>dev</th>\n",
       "      <th>test</th>\n",
       "    </tr>\n",
       "  </thead>\n",
       "  <tbody>\n",
       "    <tr>\n",
       "      <th>1</th>\n",
       "      <td>2</td>\n",
       "      <td>The gorgeously elaborate continuation of `` Th...</td>\n",
       "      <td>0.83333</td>\n",
       "      <td>1</td>\n",
       "      <td>1</td>\n",
       "      <td>True</td>\n",
       "      <td>False</td>\n",
       "      <td>False</td>\n",
       "    </tr>\n",
       "    <tr>\n",
       "      <th>3</th>\n",
       "      <td>4</td>\n",
       "      <td>If you sometimes like to go to the movies to h...</td>\n",
       "      <td>0.73611</td>\n",
       "      <td>2</td>\n",
       "      <td>1</td>\n",
       "      <td>False</td>\n",
       "      <td>False</td>\n",
       "      <td>True</td>\n",
       "    </tr>\n",
       "    <tr>\n",
       "      <th>4</th>\n",
       "      <td>5</td>\n",
       "      <td>Emerges as something rare , an issue movie tha...</td>\n",
       "      <td>0.86111</td>\n",
       "      <td>2</td>\n",
       "      <td>1</td>\n",
       "      <td>False</td>\n",
       "      <td>False</td>\n",
       "      <td>True</td>\n",
       "    </tr>\n",
       "    <tr>\n",
       "      <th>6</th>\n",
       "      <td>7</td>\n",
       "      <td>Offers that rare combination of entertainment ...</td>\n",
       "      <td>0.83333</td>\n",
       "      <td>2</td>\n",
       "      <td>1</td>\n",
       "      <td>False</td>\n",
       "      <td>False</td>\n",
       "      <td>True</td>\n",
       "    </tr>\n",
       "    <tr>\n",
       "      <th>8</th>\n",
       "      <td>9</td>\n",
       "      <td>Steers turns in a snappy screenplay that curls...</td>\n",
       "      <td>0.77778</td>\n",
       "      <td>2</td>\n",
       "      <td>1</td>\n",
       "      <td>False</td>\n",
       "      <td>False</td>\n",
       "      <td>True</td>\n",
       "    </tr>\n",
       "  </tbody>\n",
       "</table>\n",
       "</div>"
      ],
      "text/plain": [
       "   sentence_index                                           sentence  \\\n",
       "1               2  The gorgeously elaborate continuation of `` Th...   \n",
       "3               4  If you sometimes like to go to the movies to h...   \n",
       "4               5  Emerges as something rare , an issue movie tha...   \n",
       "6               7  Offers that rare combination of entertainment ...   \n",
       "8               9  Steers turns in a snappy screenplay that curls...   \n",
       "\n",
       "   sentiment  splitset_label  label  train    dev   test  \n",
       "1    0.83333               1      1   True  False  False  \n",
       "3    0.73611               2      1  False  False   True  \n",
       "4    0.86111               2      1  False  False   True  \n",
       "6    0.83333               2      1  False  False   True  \n",
       "8    0.77778               2      1  False  False   True  "
      ]
     },
     "execution_count": 31,
     "metadata": {},
     "output_type": "execute_result"
    }
   ],
   "source": [
    "df.head()"
   ]
  },
  {
   "cell_type": "markdown",
   "metadata": {},
   "source": [
    "## Classification on yelp tokenization\n",
    "At first, we will use tokenizer from yelp dataset."
   ]
  },
  {
   "cell_type": "code",
   "execution_count": 33,
   "metadata": {},
   "outputs": [],
   "source": [
    "from style_transfer import Tokenizer, get_dataset, translate\n",
    "sys.path.append('../deep-latent-sequence-model/src')\n",
    "from data_utils import DataUtil\n",
    "os.chdir('/home/przemyslaw/text-style-transfer/deep-latent-sequence-model')\n",
    "\n",
    "model_dir = '../deep-latent-sequence-model/outputs_yelp_/yelp_wd0.0_wb0.0_ws0.0_an3_pool5_klw0.1_lr0.001_t0.01_lm_bt_hard_avglen'\n",
    "model_path = os.path.join(model_dir, 'model.pt')\n",
    "model = torch.load(model_path).eval()\n",
    "\n",
    "tokenizer = Tokenizer(model.data.src_i2w)\n",
    "os.chdir('/home/przemyslaw/text-style-transfer/mgr-code')"
   ]
  },
  {
   "cell_type": "code",
   "execution_count": 64,
   "metadata": {},
   "outputs": [],
   "source": [
    "MAX_LEN = 60\n",
    "x_train = [tokenizer.tokenize(text) for text in df[df['train']]['sentence'].values]\n",
    "x_train = tf.keras.preprocessing.sequence.pad_sequences(x_train, maxlen=MAX_LEN, padding='pre')\n",
    "y_train = df[df['train']]['label'].values\n",
    "\n",
    "x_dev = [tokenizer.tokenize(text) for text in df[df['dev']]['sentence'].values]\n",
    "x_dev = tf.keras.preprocessing.sequence.pad_sequences(x_dev, maxlen=MAX_LEN, padding='pre')\n",
    "y_dev = df[df['dev']]['label'].values"
   ]
  },
  {
   "cell_type": "code",
   "execution_count": 35,
   "metadata": {},
   "outputs": [],
   "source": [
    "# Building the CNN Model\n",
    "sentiment_model = tf.keras.Sequential()\n",
    "sentiment_model.add(tf.keras.layers.Embedding(len(tokenizer), 32, input_length=MAX_LEN))\n",
    "sentiment_model.add(tf.keras.layers.Conv1D(32, 3, padding='same', activation='relu'))\n",
    "# model.add(tf.keras.layers.Dropout(0.5))\n",
    "sentiment_model.add(tf.keras.layers.MaxPooling1D())\n",
    "sentiment_model.add(tf.keras.layers.Flatten())\n",
    "sentiment_model.add(tf.keras.layers.Dense(250, activation='relu'))\n",
    "sentiment_model.add(tf.keras.layers.Dense(1, activation='sigmoid'))"
   ]
  },
  {
   "cell_type": "code",
   "execution_count": 22,
   "metadata": {},
   "outputs": [],
   "source": [
    "sentiment_model.compile(\n",
    "    optimizer=tf.keras.optimizers.Adam(),\n",
    "    loss=tf.keras.losses.BinaryCrossentropy(),\n",
    "    metrics=[\"accuracy\", tf.keras.metrics.AUC(name=\"auc\")]\n",
    ")"
   ]
  },
  {
   "cell_type": "code",
   "execution_count": 23,
   "metadata": {},
   "outputs": [
    {
     "name": "stdout",
     "output_type": "stream",
     "text": [
      "Epoch 1/5\n",
      "73/73 [==============================] - 1s 11ms/step - loss: 0.6904 - accuracy: 0.5281 - auc: 0.5193 - val_loss: 0.6797 - val_accuracy: 0.5275 - val_auc: 0.7238\n",
      "Epoch 2/5\n",
      "73/73 [==============================] - 0s 6ms/step - loss: 0.5325 - accuracy: 0.7255 - auc: 0.8224 - val_loss: 0.4283 - val_accuracy: 0.7947 - val_auc: 0.8846\n",
      "Epoch 3/5\n",
      "73/73 [==============================] - 1s 8ms/step - loss: 0.2542 - accuracy: 0.8975 - auc: 0.9614 - val_loss: 0.4524 - val_accuracy: 0.7780 - val_auc: 0.8813\n",
      "Epoch 4/5\n",
      "73/73 [==============================] - 1s 8ms/step - loss: 0.1183 - accuracy: 0.9601 - auc: 0.9926 - val_loss: 0.5352 - val_accuracy: 0.7863 - val_auc: 0.8779\n",
      "Epoch 5/5\n",
      "73/73 [==============================] - 1s 8ms/step - loss: 0.0586 - accuracy: 0.9825 - auc: 0.9985 - val_loss: 0.6530 - val_accuracy: 0.7846 - val_auc: 0.8723\n"
     ]
    }
   ],
   "source": [
    "history = sentiment_model.fit(x_train, y_train, validation_data=(x_dev, y_dev), batch_size=64, epochs=5, shuffle=True)"
   ]
  },
  {
   "cell_type": "code",
   "execution_count": 24,
   "metadata": {},
   "outputs": [],
   "source": [
    "lens = [sum([x != 0 for x in s]) for s in x_train]"
   ]
  },
  {
   "cell_type": "code",
   "execution_count": 25,
   "metadata": {},
   "outputs": [
    {
     "data": {
      "image/png": "[encoded data removed]",
      "text/plain": [
       "<Figure size 432x288 with 1 Axes>"
      ]
     },
     "metadata": {
      "needs_background": "light"
     },
     "output_type": "display_data"
    }
   ],
   "source": [
    "sns.distplot(lens)\n",
    "plt.title('Distribution of lengths of tokenized sentences');"
   ]
  },
  {
   "cell_type": "code",
   "execution_count": 26,
   "metadata": {},
   "outputs": [
    {
     "name": "stdout",
     "output_type": "stream",
     "text": [
      "0.1578394786994876\n"
     ]
    }
   ],
   "source": [
    "unks = [sum([x == 1 for x in s]) for s in x_train]\n",
    "print(sum(unks) / sum(lens))"
   ]
  },
  {
   "cell_type": "code",
   "execution_count": 27,
   "metadata": {},
   "outputs": [
    {
     "data": {
      "text/plain": [
       "9653"
      ]
     },
     "execution_count": 27,
     "metadata": {},
     "output_type": "execute_result"
    }
   ],
   "source": [
    "len(tokenizer)"
   ]
  },
  {
   "cell_type": "markdown",
   "metadata": {},
   "source": [
    "16% of words in the train data is unknown, similarily for dev data. For yelp data, we have it equal to zero for both train and dev sets. It is suprising to me, that it's zero for dev set, that may mean, that 1) authors trained tokenizer on the whole dataset or 2) the vocabulary is not diverse at all. Vocabulary consists of 9653 words."
   ]
  },
  {
   "cell_type": "code",
   "execution_count": 28,
   "metadata": {},
   "outputs": [
    {
     "data": {
      "text/plain": [
       "\"The gorgeously elaborate continuation of `` The Lord of the Rings '' trilogy is so huge that a column of words can not adequately describe co-writer\\\\/director Peter Jackson 's expanded vision of J.R.R. Tolkien 's Middle-earth .\""
      ]
     },
     "execution_count": 28,
     "metadata": {},
     "output_type": "execute_result"
    }
   ],
   "source": [
    "text = df['sentence'].values[0]\n",
    "text"
   ]
  },
  {
   "cell_type": "code",
   "execution_count": 29,
   "metadata": {},
   "outputs": [
    {
     "data": {
      "text/plain": [
       "\"the <unk> <unk> <unk> of `` the lord of the rings '' <unk> is so huge that a <unk> of words can not <unk> describe <unk> peter jackson 's expanded vision of <unk> . <unk> 's <unk> .\""
      ]
     },
     "execution_count": 29,
     "metadata": {},
     "output_type": "execute_result"
    }
   ],
   "source": [
    "tokenizer.decode(tokenizer.tokenize(text))"
   ]
  },
  {
   "cell_type": "markdown",
   "metadata": {},
   "source": [
    "## Measuring performance on yelp sentiment model"
   ]
  },
  {
   "cell_type": "code",
   "execution_count": 65,
   "metadata": {},
   "outputs": [],
   "source": [
    "yelp_sentiment_model = tf.keras.models.load_model('models/yelp_sentiment_model')"
   ]
  },
  {
   "cell_type": "code",
   "execution_count": 68,
   "metadata": {},
   "outputs": [
    {
     "name": "stdout",
     "output_type": "stream",
     "text": [
      "19/19 [==============================] - 0s 3ms/step - loss: 0.7810 - accuracy: 0.7713 - auc: 0.8537\n"
     ]
    },
    {
     "data": {
      "text/plain": [
       "[0.7809592485427856, 0.7712854743003845, 0.8536867499351501]"
      ]
     },
     "execution_count": 68,
     "metadata": {},
     "output_type": "execute_result"
    }
   ],
   "source": [
    "yelp_sentiment_model.evaluate(x_dev, y_dev)"
   ]
  },
  {
   "cell_type": "code",
   "execution_count": 69,
   "metadata": {},
   "outputs": [],
   "source": [
    "predictions = yelp_sentiment_model.predict(x_dev)[:, 0]"
   ]
  },
  {
   "cell_type": "code",
   "execution_count": 70,
   "metadata": {},
   "outputs": [
    {
     "data": {
      "text/plain": [
       "<matplotlib.axes._subplots.AxesSubplot at 0x7faca834b9b0>"
      ]
     },
     "execution_count": 70,
     "metadata": {},
     "output_type": "execute_result"
    },
    {
     "data": {
      "image/png": "[encoded data removed]",
      "text/plain": [
       "<Figure size 432x288 with 1 Axes>"
      ]
     },
     "metadata": {
      "needs_background": "light"
     },
     "output_type": "display_data"
    }
   ],
   "source": [
    "sns.distplot(predictions)"
   ]
  },
  {
   "cell_type": "markdown",
   "metadata": {},
   "source": [
    "I am very suprised to see, that the performance of the Yelp-trained model (77.13% accuracy) is only slightly worse than model trained on the new dataset (79.47% accuracy)."
   ]
  }
 ],
 "metadata": {
  "kernelspec": {
   "display_name": "Python 3",
   "language": "python",
   "name": "python3"
  },
  "language_info": {
   "codemirror_mode": {
    "name": "ipython",
    "version": 3
   },
   "file_extension": ".py",
   "mimetype": "text/x-python",
   "name": "python",
   "nbconvert_exporter": "python",
   "pygments_lexer": "ipython3",
   "version": "3.6.9"
  }
 },
 "nbformat": 4,
 "nbformat_minor": 4
}
